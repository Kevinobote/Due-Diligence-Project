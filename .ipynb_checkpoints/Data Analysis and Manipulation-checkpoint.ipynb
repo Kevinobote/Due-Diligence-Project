{
 "cells": [
  {
   "cell_type": "markdown",
   "id": "f773db9a",
   "metadata": {},
   "source": [
    "# Data Analysis and Manipulation"
   ]
  },
  {
   "cell_type": "markdown",
   "id": "cf13e251",
   "metadata": {},
   "source": [
    "## Importing the required libraries"
   ]
  },
  {
   "cell_type": "code",
   "execution_count": 1,
   "id": "63441756",
   "metadata": {},
   "outputs": [],
   "source": [
    "# Importing the required libraries\n",
    "import pandas as pd\n",
    "import smtplib\n",
    "import requests\n",
    "from bs4 import BeautifulSoup\n",
    "import gensim\n",
    "import nltk\n",
    "from PIL import Image\n",
    "import openpyxl"
   ]
  },
  {
   "cell_type": "markdown",
   "id": "99710ec0-1eff-4844-ba8f-ffa5cb210bb9",
   "metadata": {},
   "source": [
    "# Section 1"
   ]
  },
  {
   "cell_type": "markdown",
   "id": "ac6cfc2a",
   "metadata": {},
   "source": [
    "## 1a)Using Python, can you organize all the duplicates (column \"names\") at the top?"
   ]
  },
  {
   "cell_type": "code",
   "execution_count": 2,
   "id": "0701849e",
   "metadata": {},
   "outputs": [
    {
     "name": "stdout",
     "output_type": "stream",
     "text": [
      "<bound method NDFrame.head of       Unique ID                   Full name\n",
      "0             1  A. Jean Pierre AKAKPO-AKUE\n",
      "1             2          A. Karim Soumahoro\n",
      "2             3       A. Serhat Celikyilmaz\n",
      "3             4             A'Melody Jacobi\n",
      "4             5                  Aabdallah \n",
      "...         ...                         ...\n",
      "8832       8844              Zoumana Diallo\n",
      "8833       8845                Zoura TRA BI\n",
      "8834       8846             Zubair Abubakar\n",
      "8835       8847                  Zyad Bally\n",
      "8836       8848                  Zyad Limam\n",
      "\n",
      "[8837 rows x 2 columns]>\n"
     ]
    }
   ],
   "source": [
    "# Read the csv file\n",
    "df = pd.read_csv(\"Document 1a (name).csv\")\n",
    "\n",
    "print(df.head)\n"
   ]
  },
  {
   "cell_type": "code",
   "execution_count": 3,
   "id": "5ec083ee",
   "metadata": {},
   "outputs": [
    {
     "name": "stdout",
     "output_type": "stream",
     "text": [
      "<class 'pandas.core.frame.DataFrame'>\n",
      "RangeIndex: 8837 entries, 0 to 8836\n",
      "Data columns (total 2 columns):\n",
      " #   Column     Non-Null Count  Dtype \n",
      "---  ------     --------------  ----- \n",
      " 0   Unique ID  8837 non-null   int64 \n",
      " 1   Full name  8836 non-null   object\n",
      "dtypes: int64(1), object(1)\n",
      "memory usage: 138.2+ KB\n"
     ]
    }
   ],
   "source": [
    "df.info()"
   ]
  },
  {
   "cell_type": "code",
   "execution_count": 4,
   "id": "a61445c6",
   "metadata": {},
   "outputs": [
    {
     "name": "stdout",
     "output_type": "stream",
     "text": [
      "      Unique ID                   Full name\n",
      "3             4             A'Melody Jacobi\n",
      "0             1  A. Jean Pierre AKAKPO-AKUE\n",
      "1             2          A. Karim Soumahoro\n",
      "2             3       A. Serhat Celikyilmaz\n",
      "78           80   ABOU BAKR LAMINE OUATTARA\n",
      "...         ...                         ...\n",
      "2750       2759                  éric didia\n",
      "2758       2767                 éric mandon\n",
      "2764       2772                  éric mobio\n",
      "2772       2780    éric paul-roland n'goran\n",
      "6362       6374                         NaN\n",
      "\n",
      "[8837 rows x 2 columns]\n"
     ]
    }
   ],
   "source": [
    "# Move duplicates to the top\n",
    "df.sort_values(\"Full name\", inplace=True)\n",
    "\n",
    "# Print or save the updated dataframe\n",
    "print(df)"
   ]
  },
  {
   "cell_type": "code",
   "execution_count": 5,
   "id": "a4f57246",
   "metadata": {},
   "outputs": [
    {
     "name": "stdout",
     "output_type": "stream",
     "text": [
      "      Unique ID         Full name\n",
      "34           35       Abdon Ottro\n",
      "33           33       Abdon Ottro\n",
      "32           34       Abdon Ottro\n",
      "46           46  Abdoulaye Diarra\n",
      "45           47  Abdoulaye Diarra\n",
      "...         ...               ...\n",
      "7289       7300       rita ismail\n",
      "7477       7488   salem beejay WB\n",
      "7478       7489   salem beejay WB\n",
      "8264       8276   thomas O'keeffe\n",
      "8263       8275   thomas O'keeffe\n",
      "\n",
      "[1434 rows x 2 columns]\n"
     ]
    }
   ],
   "source": [
    "# Identify duplicates in the \"Full name\" column\n",
    "duplicate_names = df[df.duplicated(subset=[\"Full name\"], keep=False)]\n",
    "print(duplicate_names)\n",
    "\n"
   ]
  },
  {
   "cell_type": "code",
   "execution_count": 6,
   "id": "8d6fa60e",
   "metadata": {},
   "outputs": [
    {
     "name": "stdout",
     "output_type": "stream",
     "text": [
      "      Unique ID                   Full name\n",
      "3             4             A'Melody Jacobi\n",
      "0             1  A. Jean Pierre AKAKPO-AKUE\n",
      "1             2          A. Karim Soumahoro\n",
      "2             3       A. Serhat Celikyilmaz\n",
      "78           80   ABOU BAKR LAMINE OUATTARA\n",
      "...         ...                         ...\n",
      "2750       2759                  éric didia\n",
      "2758       2767                 éric mandon\n",
      "2764       2772                  éric mobio\n",
      "2772       2780    éric paul-roland n'goran\n",
      "6362       6374                         NaN\n",
      "\n",
      "[7403 rows x 2 columns]\n"
     ]
    }
   ],
   "source": [
    "# Move duplicate rows to the top of the DataFrame\n",
    "df = pd.concat([duplicate_names, df])\n",
    "\n",
    "# Drop duplicates from the original DataFrame\n",
    "df.drop_duplicates(subset=[\"Full name\"], keep=False, inplace=True)\n",
    "\n",
    "# Display the updated DataFrame\n",
    "print(df)\n",
    "\n",
    "# Or save the updated DataFrame to a new Excel file\n",
    "# df.to_excel(\"Document 1a_duplicates_at_top.xlsx\", index=False)"
   ]
  },
  {
   "cell_type": "markdown",
   "id": "4b2d5843",
   "metadata": {},
   "source": [
    "## 1b) Using Python, can you organize all the duplicates (column \"email\") at the top"
   ]
  },
  {
   "cell_type": "code",
   "execution_count": 7,
   "id": "9e7e2b56",
   "metadata": {},
   "outputs": [
    {
     "name": "stdout",
     "output_type": "stream",
     "text": [
      "           #                  Email Address\n",
      "0          1           yuahnnes@hotmail.com\n",
      "1          2      karim.soumahoro@gmail.com\n",
      "2          3          scelikyilmaz@d-ev.com\n",
      "3          4                            NaN\n",
      "4          5                            NaN\n",
      "...      ...                            ...\n",
      "10125  10124    raj.tandon@algonquincap.com\n",
      "10126  10125          ygal@stillcounting.ca\n",
      "10127  10126  m.latour@assurancesclavel.com\n",
      "10128  10127        rayan.clavel@hotmail.fr\n",
      "10129  10128  sophiaclavel94@googlemail.com\n",
      "\n",
      "[10130 rows x 2 columns]\n"
     ]
    }
   ],
   "source": [
    "# Read excel file\n",
    "df_b = pd.read_csv('Document 1b (email).csv')\n",
    "print(df_b)"
   ]
  },
  {
   "cell_type": "code",
   "execution_count": 8,
   "id": "318fa317",
   "metadata": {},
   "outputs": [
    {
     "name": "stdout",
     "output_type": "stream",
     "text": [
      "<class 'pandas.core.frame.DataFrame'>\n",
      "RangeIndex: 10130 entries, 0 to 10129\n",
      "Data columns (total 2 columns):\n",
      " #   Column         Non-Null Count  Dtype \n",
      "---  ------         --------------  ----- \n",
      " 0   #              10130 non-null  int64 \n",
      " 1   Email Address  6722 non-null   object\n",
      "dtypes: int64(1), object(1)\n",
      "memory usage: 158.4+ KB\n"
     ]
    }
   ],
   "source": [
    "# Checking summary of data\n",
    "df_b.info()"
   ]
  },
  {
   "cell_type": "code",
   "execution_count": 9,
   "id": "8b94c592",
   "metadata": {},
   "outputs": [
    {
     "name": "stdout",
     "output_type": "stream",
     "text": [
      "#                   0\n",
      "Email Address    3408\n",
      "dtype: int64\n"
     ]
    }
   ],
   "source": [
    "# Checking th sum of NaN values \n",
    "nan_sum = df_b.isna().sum()\n",
    "print(nan_sum)"
   ]
  },
  {
   "cell_type": "code",
   "execution_count": 10,
   "id": "2a483694",
   "metadata": {},
   "outputs": [
    {
     "data": {
      "text/plain": [
       "(6722, 2)"
      ]
     },
     "execution_count": 10,
     "metadata": {},
     "output_type": "execute_result"
    }
   ],
   "source": [
    "# Drop rows containing Nan values\n",
    "df_b.dropna(inplace=True)\n",
    "\n",
    "# Confirming we have drop the NaN values\n",
    "df_b.shape"
   ]
  },
  {
   "cell_type": "code",
   "execution_count": 11,
   "id": "f50a031b",
   "metadata": {},
   "outputs": [
    {
     "name": "stdout",
     "output_type": "stream",
     "text": [
      "         #                               Email Address\n",
      "67      67                               82@hotmail.fr\n",
      "66      68                               82@hotmail.fr\n",
      "2617  2625         Annemarie.eliaka@ordredesavocats.ci\n",
      "2616  2624         Annemarie.eliaka@ordredesavocats.ci\n",
      "4233  4243                       CODEPRIM@CODEPRIM.com\n",
      "...    ...                                         ...\n",
      "8771  8782                   yves.tt@ttmaintenance.com\n",
      "8799  8810                       zahara_tiacoh@sgs.com\n",
      "8798  8811                       zahara_tiacoh@sgs.com\n",
      "145    146  zongoadama@yahoo.fr\\ndemoterafric@yahoo.fr\n",
      "144    145  zongoadama@yahoo.fr\\ndemoterafric@yahoo.fr\n",
      "\n",
      "[1608 rows x 2 columns]\n"
     ]
    }
   ],
   "source": [
    "# Sort the DataFrame by the \"email\" column\n",
    "df_b.sort_values(\"Email Address\", inplace=True)\n",
    "\n",
    "# Identify duplicates in the \"email\" column\n",
    "duplicate_emails = df_b[df_b.duplicated(subset=[\"Email Address\"], keep=False)]\n",
    "\n",
    "print(duplicate_emails)"
   ]
  },
  {
   "cell_type": "code",
   "execution_count": 12,
   "id": "ebb628b3",
   "metadata": {},
   "outputs": [
    {
     "name": "stdout",
     "output_type": "stream",
     "text": [
      "         #                                      Email Address\n",
      "5364  5374                                0690028f@ac-lyon.fr\n",
      "7188  7200  100001449331306@facebook.com, rayan.clavel@hot...\n",
      "215    216                       100005649706485@facebook.com\n",
      "3817  3828                       100009308297969@facebook.com\n",
      "3272  3280                       100009322354472@facebook.com\n",
      "...    ...                                                ...\n",
      "8827  8840                   zouhair.chaoul@alios-finance.com\n",
      "8832  8844                         zoumana.diallo@bollore.com\n",
      "2059  2068  zoure.damase@aide-et-action.org\\nzdamase@gmail...\n",
      "8834  8846                                   zuby52@gmail.com\n",
      "3898  3908                                zurich@impacthub.ch\n",
      "\n",
      "[5114 rows x 2 columns]\n"
     ]
    }
   ],
   "source": [
    "# Move duplicate rows to the top of the DataFrame\n",
    "df_b = pd.concat([duplicate_emails, df_b])\n",
    "\n",
    "# Drop duplicates from the original DataFrame\n",
    "df_b.drop_duplicates(subset=[\"Email Address\"], keep=False, inplace=True)\n",
    "\n",
    "# Print the updated DataFrame\n",
    "print(df_b)\n",
    "\n",
    "# Or save the updated DataFrame to a new Excel file\n",
    "# df.to_excel(\"Document_1b_duplicates_at_top.xlsx\", index=False)"
   ]
  },
  {
   "cell_type": "markdown",
   "id": "b3965f99",
   "metadata": {},
   "source": [
    "# 1c) Using Python, can you organize all the duplicates (columns \"phone 1\", \"phone 2\", \"phone 3\", \"phone 4\") at the top"
   ]
  },
  {
   "cell_type": "code",
   "execution_count": 13,
   "id": "4d42a253",
   "metadata": {},
   "outputs": [
    {
     "name": "stdout",
     "output_type": "stream",
     "text": [
      "      Unnamed: 0          Unnamed: 1 Unnamed: 2 Unnamed: 3 Unnamed: 4\n",
      "0           2557             1051883        NaN        NaN        NaN\n",
      "1           6275             1054786        NaN        NaN        NaN\n",
      "2           1619             3044586        NaN        NaN        NaN\n",
      "3           2186             4006597        NaN        NaN        NaN\n",
      "4           1367             4326900        NaN        NaN        NaN\n",
      "...          ...                 ...        ...        ...        ...\n",
      "4251        6886        See whatsapp        NaN        NaN        NaN\n",
      "4252        4682         XX 88 59 78        NaN        NaN        NaN\n",
      "4253        3578  XXX 07 72 11 66 42        NaN        NaN        NaN\n",
      "4254         162     XXX 08029305827        NaN        NaN        NaN\n",
      "4255        3550   zOu est le numero        NaN        NaN        NaN\n",
      "\n",
      "[4256 rows x 5 columns]\n"
     ]
    }
   ],
   "source": [
    "# Read csv\n",
    "df_c = pd.read_csv('Document 1c (Phone).csv')\n",
    "print(df_c)"
   ]
  },
  {
   "cell_type": "code",
   "execution_count": 14,
   "id": "b6a89e71",
   "metadata": {},
   "outputs": [
    {
     "name": "stdout",
     "output_type": "stream",
     "text": [
      "<class 'pandas.core.frame.DataFrame'>\n",
      "RangeIndex: 4256 entries, 0 to 4255\n",
      "Data columns (total 5 columns):\n",
      " #   Column      Non-Null Count  Dtype \n",
      "---  ------      --------------  ----- \n",
      " 0   Unnamed: 0  4256 non-null   int64 \n",
      " 1   Unnamed: 1  4256 non-null   object\n",
      " 2   Unnamed: 2  765 non-null    object\n",
      " 3   Unnamed: 3  338 non-null    object\n",
      " 4   Unnamed: 4  1 non-null      object\n",
      "dtypes: int64(1), object(4)\n",
      "memory usage: 166.4+ KB\n"
     ]
    }
   ],
   "source": [
    "# Checking summary of data\n",
    "df_c.info()"
   ]
  },
  {
   "cell_type": "code",
   "execution_count": 15,
   "id": "90f92316",
   "metadata": {
    "scrolled": true
   },
   "outputs": [
    {
     "name": "stdout",
     "output_type": "stream",
     "text": [
      "Unnamed: 0       0\n",
      "Unnamed: 1       0\n",
      "Unnamed: 2    3491\n",
      "Unnamed: 3    3918\n",
      "Unnamed: 4    4255\n",
      "dtype: int64\n"
     ]
    }
   ],
   "source": [
    "# Checking sum of NaN values\n",
    "nan_sum = df_c.isna().sum()\n",
    "print(nan_sum)"
   ]
  },
  {
   "cell_type": "markdown",
   "id": "040a67d9",
   "metadata": {},
   "source": [
    "For the Document 1c (Phone) I noticed the columns are not named and also there are some entries with more than one number, for this process I will rename the unamed: 1 to phone 1, unamed: 2 to phone 2, unamed:3 to phone 3 and unamed:4 to phone 4.\n",
    "\n",
    "I will also drop the first column unamed:0"
   ]
  },
  {
   "cell_type": "code",
   "execution_count": 16,
   "id": "197e5b40",
   "metadata": {},
   "outputs": [
    {
     "name": "stdout",
     "output_type": "stream",
     "text": [
      "                 Phone 1 Phone 2 Phone 3 Phone 4\n",
      "0                1051883     NaN     NaN     NaN\n",
      "1                1054786     NaN     NaN     NaN\n",
      "2                3044586     NaN     NaN     NaN\n",
      "3                4006597     NaN     NaN     NaN\n",
      "4                4326900     NaN     NaN     NaN\n",
      "...                  ...     ...     ...     ...\n",
      "4251        See whatsapp     NaN     NaN     NaN\n",
      "4252         XX 88 59 78     NaN     NaN     NaN\n",
      "4253  XXX 07 72 11 66 42     NaN     NaN     NaN\n",
      "4254     XXX 08029305827     NaN     NaN     NaN\n",
      "4255   zOu est le numero     NaN     NaN     NaN\n",
      "\n",
      "[4256 rows x 4 columns]\n"
     ]
    }
   ],
   "source": [
    "# Assign appropriate column names\n",
    "df_c.columns = [\"Index\", \"Phone 1\", \"Phone 2\", \"Phone 3\", \"Phone 4\"]\n",
    "\n",
    "# Drop the first column (unnamed index)\n",
    "df_c = df_c.drop(columns=[\"Index\"])\n",
    "\n",
    "# Print the DataFrame after setting column names\n",
    "print(df_c)\n"
   ]
  },
  {
   "cell_type": "code",
   "execution_count": 17,
   "id": "99bff4a0",
   "metadata": {
    "scrolled": true
   },
   "outputs": [
    {
     "name": "stdout",
     "output_type": "stream",
     "text": [
      "Phone 1       0\n",
      "Phone 2    3491\n",
      "Phone 3    3918\n",
      "Phone 4    4255\n",
      "dtype: int64\n"
     ]
    }
   ],
   "source": [
    "# Checking sum of NaN values\n",
    "nan_sum = df_c.isna().sum()\n",
    "print(nan_sum)"
   ]
  },
  {
   "cell_type": "markdown",
   "id": "e65e4605",
   "metadata": {},
   "source": [
    "This shows that Phone 4 does no have any records, for this case we can drop the entire column"
   ]
  },
  {
   "cell_type": "code",
   "execution_count": 18,
   "id": "345120cd",
   "metadata": {},
   "outputs": [],
   "source": [
    "# Drop the \"phone 4\" column\n",
    "df_c.drop(\"Phone 4\", axis=1, inplace=True)\n"
   ]
  },
  {
   "cell_type": "code",
   "execution_count": 19,
   "id": "b5c3e0c3",
   "metadata": {},
   "outputs": [
    {
     "name": "stdout",
     "output_type": "stream",
     "text": [
      "           Phone 1 Phone 2 Phone 3\n",
      "102    22507575747     NaN     NaN\n",
      "103    22507575747     NaN     NaN\n",
      "146   442089410240     NaN     NaN\n",
      "147   442089410240     NaN     NaN\n",
      "165   447999423173     NaN     NaN\n",
      "...            ...     ...     ...\n",
      "4247  See whatsapp     NaN     NaN\n",
      "4248  See whatsapp     NaN     NaN\n",
      "4249  See whatsapp     NaN     NaN\n",
      "4250  See whatsapp     NaN     NaN\n",
      "4251  See whatsapp     NaN     NaN\n",
      "\n",
      "[435 rows x 3 columns]\n"
     ]
    }
   ],
   "source": [
    "# Identify duplicates across multiple columns\n",
    "duplicate_phones = df_c[df_c.duplicated(subset=[\"Phone 1\", \"Phone 2\", \"Phone 3\"], keep=False)]\n",
    "\n",
    "print(duplicate_phones)"
   ]
  },
  {
   "cell_type": "code",
   "execution_count": 20,
   "id": "eb79c698",
   "metadata": {},
   "outputs": [
    {
     "name": "stdout",
     "output_type": "stream",
     "text": [
      "                 Phone 1 Phone 2 Phone 3\n",
      "0                1051883     NaN     NaN\n",
      "1                1054786     NaN     NaN\n",
      "2                3044586     NaN     NaN\n",
      "3                4006597     NaN     NaN\n",
      "4                4326900     NaN     NaN\n",
      "...                  ...     ...     ...\n",
      "4245            97756518     NaN     NaN\n",
      "4252         XX 88 59 78     NaN     NaN\n",
      "4253  XXX 07 72 11 66 42     NaN     NaN\n",
      "4254     XXX 08029305827     NaN     NaN\n",
      "4255   zOu est le numero     NaN     NaN\n",
      "\n",
      "[3821 rows x 3 columns]\n"
     ]
    }
   ],
   "source": [
    "# Move duplicate rows to the top of the DataFrame\n",
    "df_c = pd.concat([duplicate_phones, df_c.drop_duplicates(subset=[\"Phone 1\", \"Phone 2\", \"Phone 3\"], keep=False)])\n",
    "\n",
    "# Drop duplicates from the original DataFrame\n",
    "df_c.drop_duplicates(subset=[\"Phone 1\", \"Phone 2\", \"Phone 3\"], keep=False, inplace=True)\n",
    "\n",
    "# Print or save the updated DataFrame\n",
    "print(df_c)"
   ]
  },
  {
   "cell_type": "markdown",
   "id": "75618ff7",
   "metadata": {},
   "source": [
    "## 1d) Using Python, can you organize all the duplicates (column \"URL\") at the top"
   ]
  },
  {
   "cell_type": "code",
   "execution_count": 21,
   "id": "f2f31da2",
   "metadata": {},
   "outputs": [
    {
     "name": "stdout",
     "output_type": "stream",
     "text": [
      "      Unique ID                                                URL\n",
      "0           502  apps.apple.com/ae/app/linkedin-job-search-news...\n",
      "1          6143  ci.linkedin.com/in/mohamed-adnane-a-9a9531179?...\n",
      "2          7062      ci.linkedin.com/in/pierluigi-passera-72241a19\n",
      "3          7064      ci.linkedin.com/in/pierluigi-passera-72241a19\n",
      "4          7533           ci.linkedin.com/in/sami-yassine-11b424a1\n",
      "...         ...                                                ...\n",
      "2481       6147              www.linkedin.com/in/zitouni-med-mehdi\n",
      "2482       8836            www.linkedin.com/in/zokou-nina-062223a6\n",
      "2483       8841       www.linkedin.com/in/zouhair-elharti-36a29552\n",
      "2484       8845          www.linkedin.com/in/zoura-tra-bi-550a5ab5\n",
      "2485       5483        www.zoominfo.com/p/Malika-Tanny/-1699799427\n",
      "\n",
      "[2486 rows x 2 columns]\n"
     ]
    }
   ],
   "source": [
    "# read file\n",
    "df_d = pd.read_csv(\"Document 1d (URL).csv\")\n",
    "print(df_d)"
   ]
  },
  {
   "cell_type": "code",
   "execution_count": 22,
   "id": "1bdd4ebc-ddbe-4a78-8d51-5ccd9bd2cf80",
   "metadata": {},
   "outputs": [
    {
     "name": "stdout",
     "output_type": "stream",
     "text": [
      "<class 'pandas.core.frame.DataFrame'>\n",
      "RangeIndex: 2486 entries, 0 to 2485\n",
      "Data columns (total 2 columns):\n",
      " #   Column     Non-Null Count  Dtype \n",
      "---  ------     --------------  ----- \n",
      " 0   Unique ID  2486 non-null   int64 \n",
      " 1   URL        2486 non-null   object\n",
      "dtypes: int64(1), object(1)\n",
      "memory usage: 39.0+ KB\n"
     ]
    }
   ],
   "source": [
    "# Checking the info\n",
    "df_d.info()"
   ]
  },
  {
   "cell_type": "code",
   "execution_count": 23,
   "id": "228a11b3-75ac-467b-b482-55421a8a108c",
   "metadata": {},
   "outputs": [
    {
     "name": "stdout",
     "output_type": "stream",
     "text": [
      "Unique ID    0\n",
      "URL          0\n",
      "dtype: int64\n"
     ]
    }
   ],
   "source": [
    "# Getting the null values\n",
    "df_d_null = df_d.isna().sum()\n",
    "print(df_d_null)"
   ]
  },
  {
   "cell_type": "code",
   "execution_count": 24,
   "id": "be91b2eb-babd-4596-8adf-b359a353f25d",
   "metadata": {},
   "outputs": [
    {
     "name": "stdout",
     "output_type": "stream",
     "text": [
      "      Unique ID                                                URL\n",
      "2          7062      ci.linkedin.com/in/pierluigi-passera-72241a19\n",
      "3          7064      ci.linkedin.com/in/pierluigi-passera-72241a19\n",
      "331         555                 www.linkedin.com/in/alloysiusattah\n",
      "332         556                 www.linkedin.com/in/alloysiusattah\n",
      "983        3198      www.linkedin.com/in/francois-hurstel-4b089021\n",
      "984        3199      www.linkedin.com/in/francois-hurstel-4b089021\n",
      "1032       3376            www.linkedin.com/in/ghislain-c-aaa9606b\n",
      "1033       3377            www.linkedin.com/in/ghislain-c-aaa9606b\n",
      "1155       3901         www.linkedin.com/in/imane-rayess-54a53035/\n",
      "1156       3902         www.linkedin.com/in/imane-rayess-54a53035/\n",
      "1177       2081        www.linkedin.com/in/ismahill-diaby-31897b9/\n",
      "1178       3983        www.linkedin.com/in/ismahill-diaby-31897b9/\n",
      "1286       4374    www.linkedin.com/in/jo%C3%ABlle-guede-309321117\n",
      "1287       4373    www.linkedin.com/in/jo%C3%ABlle-guede-309321117\n",
      "1330       4458  www.linkedin.com/in/joseph-khoury-770174159?or...\n",
      "1331       4457  www.linkedin.com/in/joseph-khoury-770174159?or...\n",
      "1544       5305       www.linkedin.com/in/louis-davoust-3664211a9/\n",
      "1545       5306       www.linkedin.com/in/louis-davoust-3664211a9/\n",
      "1795       1400  www.linkedin.com/in/moustapha-boulamine-41b15262/\n",
      "1796       6245  www.linkedin.com/in/moustapha-boulamine-41b15262/\n",
      "2010       6457  www.linkedin.com/in/philom%C3%A8ne-naounou-504...\n",
      "2011       7059  www.linkedin.com/in/philom%C3%A8ne-naounou-504...\n",
      "2462       8773            www.linkedin.com/in/yves-delafon-125b3a\n",
      "2463       8774            www.linkedin.com/in/yves-delafon-125b3a\n",
      "2464       8775            www.linkedin.com/in/yves-delafon-125b3a\n"
     ]
    }
   ],
   "source": [
    "# Identifying duplicated URL\n",
    "duplicate_url = df_d[df_d.duplicated(subset=[\"URL\"], keep=False)]\n",
    "print(duplicate_url)"
   ]
  },
  {
   "cell_type": "code",
   "execution_count": 25,
   "id": "b6e33da6-d5d5-4265-8e7a-529d23e629e1",
   "metadata": {},
   "outputs": [
    {
     "name": "stdout",
     "output_type": "stream",
     "text": [
      "      Unique ID                                                URL\n",
      "0           502  apps.apple.com/ae/app/linkedin-job-search-news...\n",
      "1          6143  ci.linkedin.com/in/mohamed-adnane-a-9a9531179?...\n",
      "4          7533           ci.linkedin.com/in/sami-yassine-11b424a1\n",
      "5           980     http://linkedin.com/in/aslam-m-h-taher-2b697a4\n",
      "6          1119      http://linkedin.com/in/ayouba-seydou-055b6349\n",
      "...         ...                                                ...\n",
      "2481       6147              www.linkedin.com/in/zitouni-med-mehdi\n",
      "2482       8836            www.linkedin.com/in/zokou-nina-062223a6\n",
      "2483       8841       www.linkedin.com/in/zouhair-elharti-36a29552\n",
      "2484       8845          www.linkedin.com/in/zoura-tra-bi-550a5ab5\n",
      "2485       5483        www.zoominfo.com/p/Malika-Tanny/-1699799427\n",
      "\n",
      "[2461 rows x 2 columns]\n"
     ]
    }
   ],
   "source": [
    "# Move duplicate rows to the top of the dataset\n",
    "df_d = pd.concat([duplicate_url, df_d.drop_duplicates(subset=[\"URL\"], keep=False)])\n",
    "\n",
    "# Drop duplicates from original dataset\n",
    "df_d.drop_duplicates(subset=[\"URL\"], keep=False, inplace=True)\n",
    "\n",
    "print(df_d)\n",
    "\n",
    "# Or save the updated DataFrame to a new Excel file\n",
    "# df_d.to_csv(\"Document 1d (URL)_top.csv\", index=False)"
   ]
  },
  {
   "cell_type": "markdown",
   "id": "ff9bb5c4-937b-4802-a258-76dffa627a56",
   "metadata": {},
   "source": [
    "# Section 2"
   ]
  },
  {
   "cell_type": "code",
   "execution_count": 26,
   "id": "9fe3ce32-8b95-4ddd-8a4d-0c974cbc47bf",
   "metadata": {},
   "outputs": [
    {
     "name": "stdout",
     "output_type": "stream",
     "text": [
      "                  Full name   x Dup1     #                             Raison  \\\n",
      "0           appolinaire aka NaN    x   900                                NaN   \n",
      "1             arnaud vergez NaN    x   942                                NaN   \n",
      "2            amadou kouyate NaN    x   586                                NaN   \n",
      "3             amidou guindo NaN    x   630                                NaN   \n",
      "4     Alligué Louise Wognin NaN    x   549                                NaN   \n",
      "...                     ...  ..  ...   ...                                ...   \n",
      "2758                 Soizic NaN  NaN  7866                             Friend   \n",
      "2759       Thierry Arthaud  NaN  NaN  8237             Competitors & Partners   \n",
      "2760          Yacouba SYLLA NaN  NaN  8601  Prestataire & Source (Formaliste)   \n",
      "2761                Yannick NaN  NaN  8616                            Partner   \n",
      "2762              Yoro Diaw NaN  NaN  8721               Prestataire & Source   \n",
      "\n",
      "     Title  x.1                                                URL  \\\n",
      "0      NaN  NaN                                                NaN   \n",
      "1      NaN  NaN                                                NaN   \n",
      "2      NaN  NaN                                                NaN   \n",
      "3      NaN  NaN                                                NaN   \n",
      "4      NaN  NaN                                                NaN   \n",
      "...    ...  ...                                                ...   \n",
      "2758   NaN  NaN              www.linkedin.com/in/soizicmerdrignac/   \n",
      "2759   NaN  NaN                www.linkedin.com/in/thierryarthaud/   \n",
      "2760   NaN  NaN       www.linkedin.com/in/yacouba-sylla-142468175/   \n",
      "2761   NaN  NaN  www.linkedin.com/in/yannick-houphou%C3%ABt-kou...   \n",
      "2762   NaN  NaN           www.linkedin.com/in/yoro-diaw-1b734319/    \n",
      "\n",
      "                                  Email Address Dup2  ... x.4 Raw Data  \\\n",
      "0                        akappoli@iaco-oiac.org    x  ... NaN      NaN   \n",
      "1                     afrikannoncesci@yahoo.com    x  ... NaN      NaN   \n",
      "2            amadou.kouyate@BRIDGEBANKGROUP.com    x  ... NaN      NaN   \n",
      "3                             aguindo@bduci.com    x  ... NaN      NaN   \n",
      "4     alligueattouolouise.akouna@bnpparibas.com    x  ... NaN      NaN   \n",
      "...                                         ...  ...  ...  ..      ...   \n",
      "2758                                        NaN  NaN  ... NaN      NaN   \n",
      "2759                                        NaN  NaN  ... NaN      NaN   \n",
      "2760                                        NaN  NaN  ... NaN      NaN   \n",
      "2761                                        NaN  NaN  ... NaN      NaN   \n",
      "2762                                        NaN  NaN  ... NaN      NaN   \n",
      "\n",
      "     Biographie      First Name Last Name Twitter Photo x.5  \\\n",
      "0           NaN     appolinaire       aka     NaN   NaN NaN   \n",
      "1           NaN          arnaud    vergez     NaN   NaN NaN   \n",
      "2           NaN          amadou   kouyate     NaN   NaN NaN   \n",
      "3           NaN          amidou    guindo     NaN   NaN NaN   \n",
      "4           NaN  alligué louise    wognin     NaN   NaN NaN   \n",
      "...         ...             ...       ...     ...   ...  ..   \n",
      "2758        NaN             NaN       NaN     NaN   NaN NaN   \n",
      "2759        NaN             NaN       NaN     NaN   NaN NaN   \n",
      "2760        NaN             NaN       NaN     NaN   NaN NaN   \n",
      "2761        NaN             NaN       NaN     NaN   NaN NaN   \n",
      "2762        NaN             NaN       NaN     NaN   NaN NaN   \n",
      "\n",
      "                            Source Source_Contact  \n",
      "0     Excel: Base de donnee - 2015            NaN  \n",
      "1     Excel: Base de donnee - 2015            NaN  \n",
      "2     Excel: Base de donnee - 2015            NaN  \n",
      "3     Excel: Base de donnee - 2015            NaN  \n",
      "4     Excel: Base de donnee - 2015            NaN  \n",
      "...                            ...            ...  \n",
      "2758                           NaN            NaN  \n",
      "2759                           NaN            NaN  \n",
      "2760                           NaN            NaN  \n",
      "2761                           NaN            NaN  \n",
      "2762                           NaN            NaN  \n",
      "\n",
      "[2763 rows x 41 columns]\n"
     ]
    }
   ],
   "source": [
    "# Read the csv\n",
    "df_2 = pd.read_csv(\"Document 2.csv\")\n",
    "print(df_2)"
   ]
  },
  {
   "cell_type": "code",
   "execution_count": 27,
   "id": "f6add083-04f8-4ca1-9121-b8a19c1f37ea",
   "metadata": {
    "tags": []
   },
   "outputs": [
    {
     "data": {
      "text/html": [
       "<div>\n",
       "<style scoped>\n",
       "    .dataframe tbody tr th:only-of-type {\n",
       "        vertical-align: middle;\n",
       "    }\n",
       "\n",
       "    .dataframe tbody tr th {\n",
       "        vertical-align: top;\n",
       "    }\n",
       "\n",
       "    .dataframe thead th {\n",
       "        text-align: right;\n",
       "    }\n",
       "</style>\n",
       "<table border=\"1\" class=\"dataframe\">\n",
       "  <thead>\n",
       "    <tr style=\"text-align: right;\">\n",
       "      <th></th>\n",
       "      <th>Full name</th>\n",
       "      <th>x</th>\n",
       "      <th>Dup1</th>\n",
       "      <th>#</th>\n",
       "      <th>Raison</th>\n",
       "      <th>Title</th>\n",
       "      <th>x.1</th>\n",
       "      <th>URL</th>\n",
       "      <th>Email Address</th>\n",
       "      <th>Dup2</th>\n",
       "      <th>...</th>\n",
       "      <th>Raw Data</th>\n",
       "      <th>Biographie</th>\n",
       "      <th>First Name</th>\n",
       "      <th>Last Name</th>\n",
       "      <th>Twitter</th>\n",
       "      <th>Photo</th>\n",
       "      <th>x.5</th>\n",
       "      <th>Source</th>\n",
       "      <th>Source_Contact</th>\n",
       "      <th>Phone numbers</th>\n",
       "    </tr>\n",
       "  </thead>\n",
       "  <tbody>\n",
       "    <tr>\n",
       "      <th>0</th>\n",
       "      <td>appolinaire aka</td>\n",
       "      <td>NaN</td>\n",
       "      <td>x</td>\n",
       "      <td>900</td>\n",
       "      <td>NaN</td>\n",
       "      <td>NaN</td>\n",
       "      <td>NaN</td>\n",
       "      <td>NaN</td>\n",
       "      <td>akappoli@iaco-oiac.org</td>\n",
       "      <td>x</td>\n",
       "      <td>...</td>\n",
       "      <td>NaN</td>\n",
       "      <td>NaN</td>\n",
       "      <td>Appolinaire</td>\n",
       "      <td>Aka</td>\n",
       "      <td>NaN</td>\n",
       "      <td>NaN</td>\n",
       "      <td>NaN</td>\n",
       "      <td>Excel: Base de donnee - 2015</td>\n",
       "      <td>NaN</td>\n",
       "      <td>(225) 20 21 61 31(225) 44 00 16 16</td>\n",
       "    </tr>\n",
       "    <tr>\n",
       "      <th>1</th>\n",
       "      <td>arnaud vergez</td>\n",
       "      <td>NaN</td>\n",
       "      <td>x</td>\n",
       "      <td>942</td>\n",
       "      <td>NaN</td>\n",
       "      <td>NaN</td>\n",
       "      <td>NaN</td>\n",
       "      <td>NaN</td>\n",
       "      <td>afrikannoncesci@yahoo.com</td>\n",
       "      <td>x</td>\n",
       "      <td>...</td>\n",
       "      <td>NaN</td>\n",
       "      <td>NaN</td>\n",
       "      <td>Arnaud</td>\n",
       "      <td>Vergez</td>\n",
       "      <td>NaN</td>\n",
       "      <td>NaN</td>\n",
       "      <td>NaN</td>\n",
       "      <td>Excel: Base de donnee - 2015</td>\n",
       "      <td>NaN</td>\n",
       "      <td>(225) 48 41 78 33(225) 21 34 64 65</td>\n",
       "    </tr>\n",
       "    <tr>\n",
       "      <th>2</th>\n",
       "      <td>amadou kouyate</td>\n",
       "      <td>NaN</td>\n",
       "      <td>x</td>\n",
       "      <td>586</td>\n",
       "      <td>NaN</td>\n",
       "      <td>NaN</td>\n",
       "      <td>NaN</td>\n",
       "      <td>NaN</td>\n",
       "      <td>amadou.kouyate@BRIDGEBANKGROUP.com</td>\n",
       "      <td>x</td>\n",
       "      <td>...</td>\n",
       "      <td>NaN</td>\n",
       "      <td>NaN</td>\n",
       "      <td>Amadou</td>\n",
       "      <td>Kouyate</td>\n",
       "      <td>NaN</td>\n",
       "      <td>NaN</td>\n",
       "      <td>NaN</td>\n",
       "      <td>Excel: Base de donnee - 2015</td>\n",
       "      <td>NaN</td>\n",
       "      <td>(225) 07 93 28 60(225) 20 21 62 09</td>\n",
       "    </tr>\n",
       "    <tr>\n",
       "      <th>3</th>\n",
       "      <td>amidou guindo</td>\n",
       "      <td>NaN</td>\n",
       "      <td>x</td>\n",
       "      <td>630</td>\n",
       "      <td>NaN</td>\n",
       "      <td>NaN</td>\n",
       "      <td>NaN</td>\n",
       "      <td>NaN</td>\n",
       "      <td>aguindo@bduci.com</td>\n",
       "      <td>x</td>\n",
       "      <td>...</td>\n",
       "      <td>NaN</td>\n",
       "      <td>NaN</td>\n",
       "      <td>Amidou</td>\n",
       "      <td>Guindo</td>\n",
       "      <td>NaN</td>\n",
       "      <td>NaN</td>\n",
       "      <td>NaN</td>\n",
       "      <td>Excel: Base de donnee - 2015</td>\n",
       "      <td>NaN</td>\n",
       "      <td>(225) 59 14 92 74(225) 20 20 30 51</td>\n",
       "    </tr>\n",
       "    <tr>\n",
       "      <th>4</th>\n",
       "      <td>Alligué Louise Wognin</td>\n",
       "      <td>NaN</td>\n",
       "      <td>x</td>\n",
       "      <td>549</td>\n",
       "      <td>NaN</td>\n",
       "      <td>NaN</td>\n",
       "      <td>NaN</td>\n",
       "      <td>NaN</td>\n",
       "      <td>alligueattouolouise.akouna@bnpparibas.com</td>\n",
       "      <td>x</td>\n",
       "      <td>...</td>\n",
       "      <td>NaN</td>\n",
       "      <td>NaN</td>\n",
       "      <td>Alligué louise</td>\n",
       "      <td>Wognin</td>\n",
       "      <td>NaN</td>\n",
       "      <td>NaN</td>\n",
       "      <td>NaN</td>\n",
       "      <td>Excel: Base de donnee - 2015</td>\n",
       "      <td>NaN</td>\n",
       "      <td>(225) 20 20 17 77(225) 08 17 58 37</td>\n",
       "    </tr>\n",
       "  </tbody>\n",
       "</table>\n",
       "<p>5 rows × 42 columns</p>\n",
       "</div>"
      ],
      "text/plain": [
       "               Full name   x Dup1    # Raison Title  x.1  URL  \\\n",
       "0        appolinaire aka NaN    x  900    NaN   NaN  NaN  NaN   \n",
       "1          arnaud vergez NaN    x  942    NaN   NaN  NaN  NaN   \n",
       "2         amadou kouyate NaN    x  586    NaN   NaN  NaN  NaN   \n",
       "3          amidou guindo NaN    x  630    NaN   NaN  NaN  NaN   \n",
       "4  Alligué Louise Wognin NaN    x  549    NaN   NaN  NaN  NaN   \n",
       "\n",
       "                               Email Address Dup2  ... Raw Data Biographie  \\\n",
       "0                     akappoli@iaco-oiac.org    x  ...      NaN        NaN   \n",
       "1                  afrikannoncesci@yahoo.com    x  ...      NaN        NaN   \n",
       "2         amadou.kouyate@BRIDGEBANKGROUP.com    x  ...      NaN        NaN   \n",
       "3                          aguindo@bduci.com    x  ...      NaN        NaN   \n",
       "4  alligueattouolouise.akouna@bnpparibas.com    x  ...      NaN        NaN   \n",
       "\n",
       "       First Name  Last Name Twitter Photo x.5                        Source  \\\n",
       "0     Appolinaire        Aka     NaN   NaN NaN  Excel: Base de donnee - 2015   \n",
       "1          Arnaud     Vergez     NaN   NaN NaN  Excel: Base de donnee - 2015   \n",
       "2          Amadou    Kouyate     NaN   NaN NaN  Excel: Base de donnee - 2015   \n",
       "3          Amidou     Guindo     NaN   NaN NaN  Excel: Base de donnee - 2015   \n",
       "4  Alligué louise     Wognin     NaN   NaN NaN  Excel: Base de donnee - 2015   \n",
       "\n",
       "  Source_Contact                       Phone numbers  \n",
       "0            NaN  (225) 20 21 61 31(225) 44 00 16 16  \n",
       "1            NaN  (225) 48 41 78 33(225) 21 34 64 65  \n",
       "2            NaN  (225) 07 93 28 60(225) 20 21 62 09  \n",
       "3            NaN  (225) 59 14 92 74(225) 20 20 30 51  \n",
       "4            NaN  (225) 20 20 17 77(225) 08 17 58 37  \n",
       "\n",
       "[5 rows x 42 columns]"
      ]
     },
     "execution_count": 27,
     "metadata": {},
     "output_type": "execute_result"
    }
   ],
   "source": [
    "# Data cleaning\n",
    "# Clean the database to remove duplicates and ensure one entry per person.\n",
    "df_2.drop_duplicates(subset=[\"Full name\"], inplace=True)\n",
    "\n",
    "# Ensure all relevant information remains intact\n",
    "# Combine all phone numbers into a single column\n",
    "df_2[\"Phone numbers\"] = df_2[\"Phone 1\"].fillna(\"\") + df_2[\"Phone 2\"].fillna(\"\") + df_2[\"Phone 3\"].fillna(\"\") + df_2[\"Phone 4\"].fillna(\"\")\n",
    "\n",
    "# Capitalize the first letter of the first name and last name\n",
    "df_2[\"First Name\"] = df_2[\"First Name\"].str.capitalize()\n",
    "df_2[\"Last Name\"] = df_2[\"Last Name\"].str.capitalize()\n",
    "\n",
    "df_2.head()"
   ]
  },
  {
   "cell_type": "code",
   "execution_count": 28,
   "id": "ba3485a4",
   "metadata": {
    "scrolled": true
   },
   "outputs": [
    {
     "name": "stdout",
     "output_type": "stream",
     "text": [
      "Requirement already satisfied: flask in c:\\users\\kevin\\anaconda3\\lib\\site-packages (2.2.5)\n",
      "Requirement already satisfied: Werkzeug>=2.2.2 in c:\\users\\kevin\\anaconda3\\lib\\site-packages (from flask) (2.2.3)\n",
      "Requirement already satisfied: Jinja2>=3.0 in c:\\users\\kevin\\anaconda3\\lib\\site-packages (from flask) (3.1.3)\n",
      "Requirement already satisfied: itsdangerous>=2.0 in c:\\users\\kevin\\anaconda3\\lib\\site-packages (from flask) (2.0.1)\n",
      "Requirement already satisfied: click>=8.0 in c:\\users\\kevin\\anaconda3\\lib\\site-packages (from flask) (8.1.7)\n",
      "Requirement already satisfied: colorama in c:\\users\\kevin\\anaconda3\\lib\\site-packages (from click>=8.0->flask) (0.4.6)\n",
      "Requirement already satisfied: MarkupSafe>=2.0 in c:\\users\\kevin\\anaconda3\\lib\\site-packages (from Jinja2>=3.0->flask) (2.1.3)\n",
      "Note: you may need to restart the kernel to use updated packages.\n"
     ]
    }
   ],
   "source": [
    "pip install flask"
   ]
  },
  {
   "cell_type": "code",
   "execution_count": 66,
   "id": "5a1ac27e-bd41-491c-babf-7e5886ece47e",
   "metadata": {},
   "outputs": [
    {
     "name": "stdout",
     "output_type": "stream",
     "text": [
      " * Serving Flask app '__main__'\n",
      " * Debug mode: on\n"
     ]
    },
    {
     "name": "stderr",
     "output_type": "stream",
     "text": [
      "WARNING: This is a development server. Do not use it in a production deployment. Use a production WSGI server instead.\n",
      " * Running on http://127.0.0.1:5000\n",
      "Press CTRL+C to quit\n",
      " * Restarting with watchdog (windowsapi)\n"
     ]
    },
    {
     "ename": "SystemExit",
     "evalue": "1",
     "output_type": "error",
     "traceback": [
      "An exception has occurred, use %tb to see the full traceback.\n",
      "\u001b[1;31mSystemExit\u001b[0m\u001b[1;31m:\u001b[0m 1\n"
     ]
    },
    {
     "name": "stderr",
     "output_type": "stream",
     "text": [
      "C:\\Users\\kevin\\anaconda3\\Lib\\site-packages\\IPython\\core\\interactiveshell.py:3561: UserWarning: To exit: use 'exit', 'quit', or Ctrl-D.\n",
      "  warn(\"To exit: use 'exit', 'quit', or Ctrl-D.\", stacklevel=1)\n"
     ]
    }
   ],
   "source": [
    "# Create a small website to display the contacts\n",
    "# This involves using web development frameworks like Flask or Django\n",
    "# You need to define routes to render HTML templates and pass the DataFrame data to the templates\n",
    "\n",
    "# For example, using Flask:\n",
    "from flask import Flask, render_template\n",
    "\n",
    "app = Flask(__name__)\n",
    "\n",
    "@app.route('/')\n",
    "def contact_book():\n",
    "    return render_template('contact_book.html', contacts=df_2.to_dict(orient='records'))\n",
    "\n",
    "if __name__ == '__main__':\n",
    "    app.run(debug=True)"
   ]
  },
  {
   "cell_type": "markdown",
   "id": "b48e3f24",
   "metadata": {},
   "source": [
    "This code snippet is a basic example of how to use Flask, a web development framework in Python, to create a small web application. Let's break it down:\n",
    "\n",
    "1. `from flask import Flask, render_template`: This line imports the Flask class and the `render_template` function from the Flask module. Flask is used to create web applications in Python, and `render_template` is a function provided by Flask to render HTML templates.\n",
    "\n",
    "2. `app = Flask(__name__)`: This line creates a new Flask application instance. `__name__` is a special variable in Python that represents the name of the current module. When running the script directly, `__name__` is set to `\"__main__\"`, and when imported as a module, it's set to the module's name.\n",
    "\n",
    "3. `@app.route('/')`: This is a decorator provided by Flask that defines the route for the web application. In this case, it specifies that the function below it (`contact_book()`) should be executed when the root URL `'/'` is accessed.\n",
    "\n",
    "4. `def contact_book():`: This is a view function that defines the behavior when the specified route is accessed. In this case, it returns the result of calling `render_template()`.\n",
    "\n",
    "5. `return render_template('contact_book.html', contacts=df_2.to_dict(orient='records'))`: This line calls the `render_template()` function to render an HTML template named `'contact_book.html'`. It also passes data to the template using the `contacts` variable, which is populated with the DataFrame `df_2` converted to a dictionary in the `'records'` orientation.\n",
    "\n",
    "6. `if __name__ == '__main__':`: This condition checks if the script is being run directly (not imported as a module). If so, it runs the Flask application using `app.run()`.\n",
    "\n",
    "7. `app.run(debug=True)`: This line starts the Flask development server. Setting `debug=True` enables debugging mode, which provides helpful error messages in case of issues and automatically restarts the server when changes are made to the code.\n",
    "\n",
    "In summary, this code creates a Flask application with a single route (`'/'`) that renders an HTML template named `'contact_book.html'`. The template receives data from the DataFrame `df_2` and displays it to the user when they access the root URL of the web application."
   ]
  },
  {
   "cell_type": "markdown",
   "id": "8768b4ec",
   "metadata": {},
   "source": [
    "# Section 3"
   ]
  },
  {
   "cell_type": "code",
   "execution_count": null,
   "id": "3a24e24f",
   "metadata": {},
   "outputs": [],
   "source": [
    "import pandas as pd\n",
    "import smtplib\n",
    "from email.mime.text import MIMEText\n",
    "from email.mime.multipart import MIMEMultipart\n",
    "\n",
    "\n",
    "# Sample email template\n",
    "email_template = \"\"\"\n",
    "Dear {Name},\n",
    "\n",
    "We are excited to inform you about our latest offerings. \n",
    "Please find more information in the attached document.\n",
    "\n",
    "Best regards,\n",
    "Your Company\n",
    "\"\"\"\n",
    "\n",
    "# Email configuration, please update your email credentials accrodingly\n",
    "# Kindly replace, email credentials, and other placeholders with your actual data. \n",
    "# Also, ensure that you have enabled access for less secure apps in your Gmail settings \n",
    "# if you're using a Gmail account for sending emails.\n",
    "\n",
    "email_address = \"your_email@gmail.com\"\n",
    "email_password = \"your_password\"\n",
    "smtp_server = \"smtp.gmail.com\"\n",
    "smtp_port = 587\n",
    "\n",
    "# Connect to the SMTP server\n",
    "server = smtplib.SMTP(smtp_server, smtp_port)\n",
    "server.starttls()\n",
    "server.login(email_address, email_password)\n",
    "\n",
    "# Iterate through each row in the dataset and send personalized emails\n",
    "for index, row in df.iterrows():\n",
    "    recipient_email = row['Email Address']\n",
    "    subject = \"Your Subject Here\"\n",
    "    \n",
    "    # Prepare the email message\n",
    "    message = MIMEMultipart()\n",
    "    message['From'] = email_address\n",
    "    message['To'] = recipient_email\n",
    "    message['Subject'] = subject\n",
    "    \n",
    "    # Add the email body\n",
    "    email_body = email_template.format(Name=row['Last Name'], Email=row['Email Address'])\n",
    "    message.attach(MIMEText(email_body, 'plain'))\n",
    "    \n",
    "    # Send the email\n",
    "    server.sendmail(email_address, recipient_email, message.as_string())\n",
    "    print(f\"Email sent to {recipient_email}\")\n",
    "\n",
    "# Close the SMTP server connection\n",
    "server.quit()\n"
   ]
  },
  {
   "cell_type": "markdown",
   "id": "6cb99b5e",
   "metadata": {},
   "source": [
    "# Section 4"
   ]
  },
  {
   "cell_type": "code",
   "execution_count": 29,
   "id": "10e53fa3",
   "metadata": {},
   "outputs": [
    {
     "ename": "ModuleNotFoundError",
     "evalue": "No module named 'pdfkit'",
     "output_type": "error",
     "traceback": [
      "\u001b[1;31m---------------------------------------------------------------------------\u001b[0m",
      "\u001b[1;31mModuleNotFoundError\u001b[0m                       Traceback (most recent call last)",
      "Cell \u001b[1;32mIn[29], line 3\u001b[0m\n\u001b[0;32m      1\u001b[0m \u001b[38;5;28;01mimport\u001b[39;00m \u001b[38;5;21;01mrequests\u001b[39;00m\n\u001b[0;32m      2\u001b[0m \u001b[38;5;28;01mfrom\u001b[39;00m \u001b[38;5;21;01mbs4\u001b[39;00m \u001b[38;5;28;01mimport\u001b[39;00m BeautifulSoup\n\u001b[1;32m----> 3\u001b[0m \u001b[38;5;28;01mimport\u001b[39;00m \u001b[38;5;21;01mpdfkit\u001b[39;00m\n\u001b[0;32m      5\u001b[0m \u001b[38;5;66;03m# Function to scrape notices of constitution from business.abidjan.net\u001b[39;00m\n\u001b[0;32m      6\u001b[0m \u001b[38;5;28;01mdef\u001b[39;00m \u001b[38;5;21mscrape_notices_of_constitution\u001b[39m():\n",
      "\u001b[1;31mModuleNotFoundError\u001b[0m: No module named 'pdfkit'"
     ]
    }
   ],
   "source": [
    "import requests\n",
    "from bs4 import BeautifulSoup\n",
    "import pdfkit\n",
    "\n",
    "# Function to scrape notices of constitution from business.abidjan.net\n",
    "def scrape_notices_of_constitution():\n",
    "    url = \"https://business.abidjan.net/annonces-legales\"\n",
    "    try:\n",
    "        response = requests.get(url)\n",
    "        response.raise_for_status()  # Raise exception for HTTP errors\n",
    "        if response.status_code == 200:\n",
    "            soup = BeautifulSoup(response.text, 'html.parser')\n",
    "            notices = soup.find_all(\"div\", class_=\"notice\")[:100]  # Limit to first 100 notices\n",
    "            for notice in notices:\n",
    "                # Extract relevant information from the notice\n",
    "                title = notice.find(\"div\", class_=\"title\").text.strip()\n",
    "                date = notice.find(\"div\", class_=\"date\").text.strip()\n",
    "                link = notice.find(\"a\")[\"href\"]\n",
    "                # Print or process the information\n",
    "                print(f\"Title: {title}\")\n",
    "                print(f\"Date: {date}\")\n",
    "                print(f\"Link: {link}\")\n",
    "                print(\"-\" * 50)\n",
    "        else:\n",
    "            print(\"Failed to fetch data from the website\")\n",
    "    except requests.exceptions.RequestException as e:\n",
    "        print(f\"Error fetching data: {e}\")\n",
    "\n",
    "# Function to scrape PDF documents from tribunalcommerceabidjan.org\n",
    "def scrape_pdf_documents():\n",
    "    url = \"https://tribunalcommerceabidjan.org/\"\n",
    "    try:\n",
    "        response = requests.get(url)\n",
    "        response.raise_for_status()  # Raise exception for HTTP errors\n",
    "        if response.status_code == 200:\n",
    "            soup = BeautifulSoup(response.text, 'html.parser')\n",
    "            pdf_links = soup.find_all(\"a\", href=True)[:100]  # Limit to first 100 PDF links\n",
    "            for pdf_link in pdf_links:\n",
    "                # Extract the PDF link\n",
    "                pdf_url = pdf_link[\"href\"]\n",
    "                # Download or process the PDF\n",
    "                # For example, you can download the PDF using requests\n",
    "                # pdf_response = requests.get(pdf_url)\n",
    "                # with open(f\"document_{pdf_links.index(pdf_link) + 1}.pdf\", \"wb\") as f:\n",
    "                #     f.write(pdf_response.content)\n",
    "                # Or you can use pdfkit to convert the PDF to text or HTML\n",
    "                # pdfkit.from_url(pdf_url, f\"document_{pdf_links.index(pdf_link) + 1}.html\")\n",
    "                # Or any other processing logic you require\n",
    "                print(f\"PDF Link: {pdf_url}\")\n",
    "                print(\"-\" * 50)\n",
    "        else:\n",
    "            print(\"Failed to fetch data from the website\")\n",
    "    except requests.exceptions.RequestException as e:\n",
    "        print(f\"Error fetching data: {e}\")\n",
    "\n",
    "# Call the scraping functions\n",
    "scrape_notices_of_constitution()\n",
    "scrape_pdf_documents()\n"
   ]
  },
  {
   "cell_type": "code",
   "execution_count": null,
   "id": "1b2a4fc1",
   "metadata": {},
   "outputs": [],
   "source": []
  }
 ],
 "metadata": {
  "kernelspec": {
   "display_name": "Python 3 (ipykernel)",
   "language": "python",
   "name": "python3"
  },
  "language_info": {
   "codemirror_mode": {
    "name": "ipython",
    "version": 3
   },
   "file_extension": ".py",
   "mimetype": "text/x-python",
   "name": "python",
   "nbconvert_exporter": "python",
   "pygments_lexer": "ipython3",
   "version": "3.11.7"
  }
 },
 "nbformat": 4,
 "nbformat_minor": 5
}
