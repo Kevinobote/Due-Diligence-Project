{
 "cells": [
  {
   "cell_type": "markdown",
   "id": "f773db9a",
   "metadata": {},
   "source": [
    "# Data Analysis and Manipulation"
   ]
  },
  {
   "cell_type": "markdown",
   "id": "cf13e251",
   "metadata": {},
   "source": [
    "## Importing the required libraries"
   ]
  },
  {
   "cell_type": "code",
   "execution_count": 8,
   "id": "63441756",
   "metadata": {},
   "outputs": [],
   "source": [
    "# Importing the required libraries\n",
    "import pandas as pd\n",
    "import smtplib\n",
    "import requests\n",
    "from bs4 import BeautifulSoup\n",
    "import gensim\n",
    "import nltk\n",
    "from PIL import Image\n",
    "import openpyxl"
   ]
  },
  {
   "cell_type": "markdown",
   "id": "ac6cfc2a",
   "metadata": {},
   "source": [
    "## 1a)Using Python, can you organize all the duplicates (column \"names\") at the top?"
   ]
  },
  {
   "cell_type": "code",
   "execution_count": 9,
   "id": "0701849e",
   "metadata": {},
   "outputs": [
    {
     "name": "stdout",
     "output_type": "stream",
     "text": [
      "<bound method NDFrame.head of       Unique ID                   Full name\n",
      "0             1  A. Jean Pierre AKAKPO-AKUE\n",
      "1             2          A. Karim Soumahoro\n",
      "2             3       A. Serhat Celikyilmaz\n",
      "3             4             A'Melody Jacobi\n",
      "4             5                  Aabdallah \n",
      "...         ...                         ...\n",
      "8832       8844              Zoumana Diallo\n",
      "8833       8845                Zoura TRA BI\n",
      "8834       8846             Zubair Abubakar\n",
      "8835       8847                  Zyad Bally\n",
      "8836       8848                  Zyad Limam\n",
      "\n",
      "[8837 rows x 2 columns]>\n"
     ]
    }
   ],
   "source": [
    "# Read the csv file\n",
    "df = pd.read_csv(\"Document 1a (name).csv\")\n",
    "\n",
    "print(df.head)\n"
   ]
  },
  {
   "cell_type": "code",
   "execution_count": 10,
   "id": "5ec083ee",
   "metadata": {},
   "outputs": [
    {
     "name": "stdout",
     "output_type": "stream",
     "text": [
      "<class 'pandas.core.frame.DataFrame'>\n",
      "RangeIndex: 8837 entries, 0 to 8836\n",
      "Data columns (total 2 columns):\n",
      " #   Column     Non-Null Count  Dtype \n",
      "---  ------     --------------  ----- \n",
      " 0   Unique ID  8837 non-null   int64 \n",
      " 1   Full name  8836 non-null   object\n",
      "dtypes: int64(1), object(1)\n",
      "memory usage: 138.2+ KB\n"
     ]
    }
   ],
   "source": [
    "df.info()"
   ]
  },
  {
   "cell_type": "code",
   "execution_count": 11,
   "id": "a61445c6",
   "metadata": {},
   "outputs": [
    {
     "name": "stdout",
     "output_type": "stream",
     "text": [
      "      Unique ID                   Full name\n",
      "3             4             A'Melody Jacobi\n",
      "0             1  A. Jean Pierre AKAKPO-AKUE\n",
      "1             2          A. Karim Soumahoro\n",
      "2             3       A. Serhat Celikyilmaz\n",
      "78           80   ABOU BAKR LAMINE OUATTARA\n",
      "...         ...                         ...\n",
      "2750       2759                  éric didia\n",
      "2758       2767                 éric mandon\n",
      "2764       2772                  éric mobio\n",
      "2772       2780    éric paul-roland n'goran\n",
      "6362       6374                         NaN\n",
      "\n",
      "[8837 rows x 2 columns]\n"
     ]
    }
   ],
   "source": [
    "# Move duplicates to the top\n",
    "df.sort_values(\"Full name\", inplace=True)\n",
    "\n",
    "# Print or save the updated dataframe\n",
    "print(df)"
   ]
  },
  {
   "cell_type": "code",
   "execution_count": 12,
   "id": "a4f57246",
   "metadata": {},
   "outputs": [
    {
     "name": "stdout",
     "output_type": "stream",
     "text": [
      "      Unique ID         Full name\n",
      "34           35       Abdon Ottro\n",
      "33           33       Abdon Ottro\n",
      "32           34       Abdon Ottro\n",
      "46           46  Abdoulaye Diarra\n",
      "45           47  Abdoulaye Diarra\n",
      "...         ...               ...\n",
      "7289       7300       rita ismail\n",
      "7477       7488   salem beejay WB\n",
      "7478       7489   salem beejay WB\n",
      "8264       8276   thomas O'keeffe\n",
      "8263       8275   thomas O'keeffe\n",
      "\n",
      "[1434 rows x 2 columns]\n"
     ]
    }
   ],
   "source": [
    "# Identify duplicates in the \"Full name\" column\n",
    "duplicate_names = df[df.duplicated(subset=[\"Full name\"], keep=False)]\n",
    "print(duplicate_names)\n",
    "\n"
   ]
  },
  {
   "cell_type": "code",
   "execution_count": 13,
   "id": "8d6fa60e",
   "metadata": {},
   "outputs": [
    {
     "name": "stdout",
     "output_type": "stream",
     "text": [
      "      Unique ID                   Full name\n",
      "3             4             A'Melody Jacobi\n",
      "0             1  A. Jean Pierre AKAKPO-AKUE\n",
      "1             2          A. Karim Soumahoro\n",
      "2             3       A. Serhat Celikyilmaz\n",
      "78           80   ABOU BAKR LAMINE OUATTARA\n",
      "...         ...                         ...\n",
      "2750       2759                  éric didia\n",
      "2758       2767                 éric mandon\n",
      "2764       2772                  éric mobio\n",
      "2772       2780    éric paul-roland n'goran\n",
      "6362       6374                         NaN\n",
      "\n",
      "[7403 rows x 2 columns]\n"
     ]
    }
   ],
   "source": [
    "# Move duplicate rows to the top of the DataFrame\n",
    "df = pd.concat([duplicate_names, df])\n",
    "\n",
    "# Drop duplicates from the original DataFrame\n",
    "df.drop_duplicates(subset=[\"Full name\"], keep=False, inplace=True)\n",
    "\n",
    "# Display the updated DataFrame\n",
    "print(df)\n",
    "\n",
    "# Or save the updated DataFrame to a new Excel file\n",
    "# df.to_excel(\"Document 1a_duplicates_at_top.xlsx\", index=False)"
   ]
  },
  {
   "cell_type": "markdown",
   "id": "4b2d5843",
   "metadata": {},
   "source": [
    "## 1b) Using Python, can you organize all the duplicates (column \"email\") at the top"
   ]
  },
  {
   "cell_type": "code",
   "execution_count": 14,
   "id": "9e7e2b56",
   "metadata": {},
   "outputs": [
    {
     "name": "stdout",
     "output_type": "stream",
     "text": [
      "           #                  Email Address\n",
      "0          1           yuahnnes@hotmail.com\n",
      "1          2      karim.soumahoro@gmail.com\n",
      "2          3          scelikyilmaz@d-ev.com\n",
      "3          4                            NaN\n",
      "4          5                            NaN\n",
      "...      ...                            ...\n",
      "10125  10124    raj.tandon@algonquincap.com\n",
      "10126  10125          ygal@stillcounting.ca\n",
      "10127  10126  m.latour@assurancesclavel.com\n",
      "10128  10127        rayan.clavel@hotmail.fr\n",
      "10129  10128  sophiaclavel94@googlemail.com\n",
      "\n",
      "[10130 rows x 2 columns]\n"
     ]
    }
   ],
   "source": [
    "# Read excel file\n",
    "df_b = pd.read_csv('Document 1b (email).csv')\n",
    "print(df_b)"
   ]
  },
  {
   "cell_type": "code",
   "execution_count": 15,
   "id": "318fa317",
   "metadata": {},
   "outputs": [
    {
     "name": "stdout",
     "output_type": "stream",
     "text": [
      "<class 'pandas.core.frame.DataFrame'>\n",
      "RangeIndex: 10130 entries, 0 to 10129\n",
      "Data columns (total 2 columns):\n",
      " #   Column         Non-Null Count  Dtype \n",
      "---  ------         --------------  ----- \n",
      " 0   #              10130 non-null  int64 \n",
      " 1   Email Address  6722 non-null   object\n",
      "dtypes: int64(1), object(1)\n",
      "memory usage: 158.4+ KB\n"
     ]
    }
   ],
   "source": [
    "# Checking summary of data\n",
    "df_b.info()"
   ]
  },
  {
   "cell_type": "code",
   "execution_count": 16,
   "id": "8b94c592",
   "metadata": {},
   "outputs": [
    {
     "name": "stdout",
     "output_type": "stream",
     "text": [
      "#                   0\n",
      "Email Address    3408\n",
      "dtype: int64\n"
     ]
    }
   ],
   "source": [
    "# Checking th sum of NaN values \n",
    "nan_sum = df_b.isna().sum()\n",
    "print(nan_sum)"
   ]
  },
  {
   "cell_type": "code",
   "execution_count": 18,
   "id": "2a483694",
   "metadata": {},
   "outputs": [
    {
     "data": {
      "text/plain": [
       "(6722, 2)"
      ]
     },
     "execution_count": 18,
     "metadata": {},
     "output_type": "execute_result"
    }
   ],
   "source": [
    "# Drop rows containing Nan values\n",
    "df_b.dropna(inplace=True)\n",
    "\n",
    "# Confirming we have drop the NaN values\n",
    "df_b.shape"
   ]
  },
  {
   "cell_type": "code",
   "execution_count": 19,
   "id": "f50a031b",
   "metadata": {},
   "outputs": [
    {
     "name": "stdout",
     "output_type": "stream",
     "text": [
      "         #                               Email Address\n",
      "67      67                               82@hotmail.fr\n",
      "66      68                               82@hotmail.fr\n",
      "2617  2625         Annemarie.eliaka@ordredesavocats.ci\n",
      "2616  2624         Annemarie.eliaka@ordredesavocats.ci\n",
      "4233  4243                       CODEPRIM@CODEPRIM.com\n",
      "...    ...                                         ...\n",
      "8771  8782                   yves.tt@ttmaintenance.com\n",
      "8799  8810                       zahara_tiacoh@sgs.com\n",
      "8798  8811                       zahara_tiacoh@sgs.com\n",
      "145    146  zongoadama@yahoo.fr\\ndemoterafric@yahoo.fr\n",
      "144    145  zongoadama@yahoo.fr\\ndemoterafric@yahoo.fr\n",
      "\n",
      "[1608 rows x 2 columns]\n"
     ]
    }
   ],
   "source": [
    "# Sort the DataFrame by the \"email\" column\n",
    "df_b.sort_values(\"Email Address\", inplace=True)\n",
    "\n",
    "# Identify duplicates in the \"email\" column\n",
    "duplicate_emails = df_b[df_b.duplicated(subset=[\"Email Address\"], keep=False)]\n",
    "\n",
    "print(duplicate_emails)"
   ]
  },
  {
   "cell_type": "code",
   "execution_count": 20,
   "id": "ebb628b3",
   "metadata": {},
   "outputs": [
    {
     "name": "stdout",
     "output_type": "stream",
     "text": [
      "         #                                      Email Address\n",
      "5364  5374                                0690028f@ac-lyon.fr\n",
      "7188  7200  100001449331306@facebook.com, rayan.clavel@hot...\n",
      "215    216                       100005649706485@facebook.com\n",
      "3817  3828                       100009308297969@facebook.com\n",
      "3272  3280                       100009322354472@facebook.com\n",
      "...    ...                                                ...\n",
      "8827  8840                   zouhair.chaoul@alios-finance.com\n",
      "8832  8844                         zoumana.diallo@bollore.com\n",
      "2059  2068  zoure.damase@aide-et-action.org\\nzdamase@gmail...\n",
      "8834  8846                                   zuby52@gmail.com\n",
      "3898  3908                                zurich@impacthub.ch\n",
      "\n",
      "[5114 rows x 2 columns]\n"
     ]
    }
   ],
   "source": [
    "# Move duplicate rows to the top of the DataFrame\n",
    "df_b = pd.concat([duplicate_emails, df_b])\n",
    "\n",
    "# Drop duplicates from the original DataFrame\n",
    "df_b.drop_duplicates(subset=[\"Email Address\"], keep=False, inplace=True)\n",
    "\n",
    "# Print the updated DataFrame\n",
    "print(df_b)\n",
    "\n",
    "# Or save the updated DataFrame to a new Excel file\n",
    "# df.to_excel(\"Document_1b_duplicates_at_top.xlsx\", index=False)"
   ]
  },
  {
   "cell_type": "markdown",
   "id": "b3965f99",
   "metadata": {},
   "source": [
    "# 1c) Using Python, can you organize all the duplicates (columns \"phone 1\", \"phone 2\", \"phone 3\", \"phone 4\") at the top"
   ]
  },
  {
   "cell_type": "code",
   "execution_count": 26,
   "id": "4d42a253",
   "metadata": {},
   "outputs": [
    {
     "name": "stdout",
     "output_type": "stream",
     "text": [
      "      Unnamed: 0          Unnamed: 1 Unnamed: 2 Unnamed: 3 Unnamed: 4\n",
      "0           2557             1051883        NaN        NaN        NaN\n",
      "1           6275             1054786        NaN        NaN        NaN\n",
      "2           1619             3044586        NaN        NaN        NaN\n",
      "3           2186             4006597        NaN        NaN        NaN\n",
      "4           1367             4326900        NaN        NaN        NaN\n",
      "...          ...                 ...        ...        ...        ...\n",
      "4251        6886        See whatsapp        NaN        NaN        NaN\n",
      "4252        4682         XX 88 59 78        NaN        NaN        NaN\n",
      "4253        3578  XXX 07 72 11 66 42        NaN        NaN        NaN\n",
      "4254         162     XXX 08029305827        NaN        NaN        NaN\n",
      "4255        3550   zOu est le numero        NaN        NaN        NaN\n",
      "\n",
      "[4256 rows x 5 columns]\n"
     ]
    }
   ],
   "source": [
    "# Read csv\n",
    "df_c = pd.read_csv('Document 1c (Phone).csv')\n",
    "print(df_c)"
   ]
  },
  {
   "cell_type": "code",
   "execution_count": 27,
   "id": "b6a89e71",
   "metadata": {},
   "outputs": [
    {
     "name": "stdout",
     "output_type": "stream",
     "text": [
      "<class 'pandas.core.frame.DataFrame'>\n",
      "RangeIndex: 4256 entries, 0 to 4255\n",
      "Data columns (total 5 columns):\n",
      " #   Column      Non-Null Count  Dtype \n",
      "---  ------      --------------  ----- \n",
      " 0   Unnamed: 0  4256 non-null   int64 \n",
      " 1   Unnamed: 1  4256 non-null   object\n",
      " 2   Unnamed: 2  765 non-null    object\n",
      " 3   Unnamed: 3  338 non-null    object\n",
      " 4   Unnamed: 4  1 non-null      object\n",
      "dtypes: int64(1), object(4)\n",
      "memory usage: 166.4+ KB\n"
     ]
    }
   ],
   "source": [
    "# Checking summary of data\n",
    "df_c.info()"
   ]
  },
  {
   "cell_type": "code",
   "execution_count": 28,
   "id": "90f92316",
   "metadata": {
    "scrolled": true
   },
   "outputs": [
    {
     "name": "stdout",
     "output_type": "stream",
     "text": [
      "Unnamed: 0       0\n",
      "Unnamed: 1       0\n",
      "Unnamed: 2    3491\n",
      "Unnamed: 3    3918\n",
      "Unnamed: 4    4255\n",
      "dtype: int64\n"
     ]
    }
   ],
   "source": [
    "# Checking sum of NaN values\n",
    "nan_sum = df_c.isna().sum()\n",
    "print(nan_sum)"
   ]
  },
  {
   "cell_type": "markdown",
   "id": "040a67d9",
   "metadata": {},
   "source": [
    "For the Document 1c (Phone) I noticed the columns are not named and also there are some entries with more than one number, for this process I will rename the unamed: 1 to phone 1, unamed: 2 to phone 2, unamed:3 to phone 3 and unamed:4 to phone 4.\n",
    "\n",
    "I will also drop the first column unamed:0"
   ]
  },
  {
   "cell_type": "code",
   "execution_count": 29,
   "id": "197e5b40",
   "metadata": {},
   "outputs": [
    {
     "name": "stdout",
     "output_type": "stream",
     "text": [
      "                 Phone 1 Phone 2 Phone 3 Phone 4\n",
      "0                1051883     NaN     NaN     NaN\n",
      "1                1054786     NaN     NaN     NaN\n",
      "2                3044586     NaN     NaN     NaN\n",
      "3                4006597     NaN     NaN     NaN\n",
      "4                4326900     NaN     NaN     NaN\n",
      "...                  ...     ...     ...     ...\n",
      "4251        See whatsapp     NaN     NaN     NaN\n",
      "4252         XX 88 59 78     NaN     NaN     NaN\n",
      "4253  XXX 07 72 11 66 42     NaN     NaN     NaN\n",
      "4254     XXX 08029305827     NaN     NaN     NaN\n",
      "4255   zOu est le numero     NaN     NaN     NaN\n",
      "\n",
      "[4256 rows x 4 columns]\n"
     ]
    }
   ],
   "source": [
    "# Assign appropriate column names\n",
    "df_c.columns = [\"Index\", \"Phone 1\", \"Phone 2\", \"Phone 3\", \"Phone 4\"]\n",
    "\n",
    "# Drop the first column (unnamed index)\n",
    "df_c = df_c.drop(columns=[\"Index\"])\n",
    "\n",
    "# Print the DataFrame after setting column names\n",
    "print(df_c)\n"
   ]
  },
  {
   "cell_type": "code",
   "execution_count": 31,
   "id": "99bff4a0",
   "metadata": {
    "scrolled": true
   },
   "outputs": [
    {
     "name": "stdout",
     "output_type": "stream",
     "text": [
      "Phone 1       0\n",
      "Phone 2    3491\n",
      "Phone 3    3918\n",
      "Phone 4    4255\n",
      "dtype: int64\n"
     ]
    }
   ],
   "source": [
    "# Checking sum of NaN values\n",
    "nan_sum = df_c.isna().sum()\n",
    "print(nan_sum)"
   ]
  },
  {
   "cell_type": "markdown",
   "id": "e65e4605",
   "metadata": {},
   "source": [
    "This shows that Phone 4 does no have any records, for this case we can drop the entire column"
   ]
  },
  {
   "cell_type": "code",
   "execution_count": 32,
   "id": "345120cd",
   "metadata": {},
   "outputs": [],
   "source": [
    "# Drop the \"phone 4\" column\n",
    "df_c.drop(\"Phone 4\", axis=1, inplace=True)\n"
   ]
  },
  {
   "cell_type": "code",
   "execution_count": 33,
   "id": "b5c3e0c3",
   "metadata": {},
   "outputs": [
    {
     "name": "stdout",
     "output_type": "stream",
     "text": [
      "           Phone 1 Phone 2 Phone 3\n",
      "102    22507575747     NaN     NaN\n",
      "103    22507575747     NaN     NaN\n",
      "146   442089410240     NaN     NaN\n",
      "147   442089410240     NaN     NaN\n",
      "165   447999423173     NaN     NaN\n",
      "...            ...     ...     ...\n",
      "4247  See whatsapp     NaN     NaN\n",
      "4248  See whatsapp     NaN     NaN\n",
      "4249  See whatsapp     NaN     NaN\n",
      "4250  See whatsapp     NaN     NaN\n",
      "4251  See whatsapp     NaN     NaN\n",
      "\n",
      "[435 rows x 3 columns]\n"
     ]
    }
   ],
   "source": [
    "# Identify duplicates across multiple columns\n",
    "duplicate_phones = df_c[df_c.duplicated(subset=[\"Phone 1\", \"Phone 2\", \"Phone 3\"], keep=False)]\n",
    "\n",
    "print(duplicate_phones)"
   ]
  },
  {
   "cell_type": "code",
   "execution_count": 34,
   "id": "eb79c698",
   "metadata": {},
   "outputs": [
    {
     "name": "stdout",
     "output_type": "stream",
     "text": [
      "                 Phone 1 Phone 2 Phone 3\n",
      "0                1051883     NaN     NaN\n",
      "1                1054786     NaN     NaN\n",
      "2                3044586     NaN     NaN\n",
      "3                4006597     NaN     NaN\n",
      "4                4326900     NaN     NaN\n",
      "...                  ...     ...     ...\n",
      "4245            97756518     NaN     NaN\n",
      "4252         XX 88 59 78     NaN     NaN\n",
      "4253  XXX 07 72 11 66 42     NaN     NaN\n",
      "4254     XXX 08029305827     NaN     NaN\n",
      "4255   zOu est le numero     NaN     NaN\n",
      "\n",
      "[3821 rows x 3 columns]\n"
     ]
    }
   ],
   "source": [
    "# Move duplicate rows to the top of the DataFrame\n",
    "df_c = pd.concat([duplicate_phones, df_c.drop_duplicates(subset=[\"Phone 1\", \"Phone 2\", \"Phone 3\"], keep=False)])\n",
    "\n",
    "# Drop duplicates from the original DataFrame\n",
    "df_c.drop_duplicates(subset=[\"Phone 1\", \"Phone 2\", \"Phone 3\"], keep=False, inplace=True)\n",
    "\n",
    "# Print or save the updated DataFrame\n",
    "print(df_c)"
   ]
  },
  {
   "cell_type": "markdown",
   "id": "75618ff7",
   "metadata": {},
   "source": [
    "## 1d) Using Python, can you organize all the duplicates (column \"URL\") at the top"
   ]
  },
  {
   "cell_type": "code",
   "execution_count": null,
   "id": "f2f31da2",
   "metadata": {},
   "outputs": [],
   "source": []
  }
 ],
 "metadata": {
  "kernelspec": {
   "display_name": "Python 3 (ipykernel)",
   "language": "python",
   "name": "python3"
  },
  "language_info": {
   "codemirror_mode": {
    "name": "ipython",
    "version": 3
   },
   "file_extension": ".py",
   "mimetype": "text/x-python",
   "name": "python",
   "nbconvert_exporter": "python",
   "pygments_lexer": "ipython3",
   "version": "3.11.7"
  }
 },
 "nbformat": 4,
 "nbformat_minor": 5
}
