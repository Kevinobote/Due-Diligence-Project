{
 "cells": [
  {
   "cell_type": "markdown",
   "id": "f773db9a",
   "metadata": {},
   "source": [
    "# Data Analysis and Manipulation"
   ]
  },
  {
   "cell_type": "markdown",
   "id": "cf13e251",
   "metadata": {},
   "source": [
    "## Importing the required libraries"
   ]
  },
  {
   "cell_type": "code",
   "execution_count": 7,
   "id": "63441756",
   "metadata": {},
   "outputs": [],
   "source": [
    "# Importing the required libraries\n",
    "import pandas as pd\n",
    "import smtplib\n",
    "import requests\n",
    "from bs4 import BeautifulSoup\n",
    "import gensim\n",
    "#import nltk\n",
    "#from PIL import Image\n",
    "#import openpyxl"
   ]
  },
  {
   "cell_type": "markdown",
   "id": "99710ec0-1eff-4844-ba8f-ffa5cb210bb9",
   "metadata": {},
   "source": [
    "# Section 1"
   ]
  },
  {
   "cell_type": "markdown",
   "id": "ac6cfc2a",
   "metadata": {},
   "source": [
    "## 1a)Using Python, can you organize all the duplicates (column \"names\") at the top?"
   ]
  },
  {
   "cell_type": "code",
   "execution_count": 8,
   "id": "0701849e",
   "metadata": {},
   "outputs": [
    {
     "name": "stdout",
     "output_type": "stream",
     "text": [
      "<bound method NDFrame.head of       Unique ID                   Full name\n",
      "0             1  A. Jean Pierre AKAKPO-AKUE\n",
      "1             2          A. Karim Soumahoro\n",
      "2             3       A. Serhat Celikyilmaz\n",
      "3             4             A'Melody Jacobi\n",
      "4             5                  Aabdallah \n",
      "...         ...                         ...\n",
      "8832       8844              Zoumana Diallo\n",
      "8833       8845                Zoura TRA BI\n",
      "8834       8846             Zubair Abubakar\n",
      "8835       8847                  Zyad Bally\n",
      "8836       8848                  Zyad Limam\n",
      "\n",
      "[8837 rows x 2 columns]>\n"
     ]
    }
   ],
   "source": [
    "# Read the csv file\n",
    "df = pd.read_csv(\"Document 1a (name).csv\")\n",
    "\n",
    "print(df.head)\n"
   ]
  },
  {
   "cell_type": "code",
   "execution_count": 9,
   "id": "5ec083ee",
   "metadata": {},
   "outputs": [
    {
     "name": "stdout",
     "output_type": "stream",
     "text": [
      "<class 'pandas.core.frame.DataFrame'>\n",
      "RangeIndex: 8837 entries, 0 to 8836\n",
      "Data columns (total 2 columns):\n",
      " #   Column     Non-Null Count  Dtype \n",
      "---  ------     --------------  ----- \n",
      " 0   Unique ID  8837 non-null   int64 \n",
      " 1   Full name  8836 non-null   object\n",
      "dtypes: int64(1), object(1)\n",
      "memory usage: 138.2+ KB\n"
     ]
    }
   ],
   "source": [
    "df.info()"
   ]
  },
  {
   "cell_type": "code",
   "execution_count": 10,
   "id": "a61445c6",
   "metadata": {},
   "outputs": [
    {
     "name": "stdout",
     "output_type": "stream",
     "text": [
      "      Unique ID                   Full name\n",
      "3             4             A'Melody Jacobi\n",
      "0             1  A. Jean Pierre AKAKPO-AKUE\n",
      "1             2          A. Karim Soumahoro\n",
      "2             3       A. Serhat Celikyilmaz\n",
      "78           80   ABOU BAKR LAMINE OUATTARA\n",
      "...         ...                         ...\n",
      "2750       2759                  éric didia\n",
      "2758       2767                 éric mandon\n",
      "2764       2772                  éric mobio\n",
      "2772       2780    éric paul-roland n'goran\n",
      "6362       6374                         NaN\n",
      "\n",
      "[8837 rows x 2 columns]\n"
     ]
    }
   ],
   "source": [
    "# Move duplicates to the top\n",
    "df.sort_values(\"Full name\", inplace=True)\n",
    "\n",
    "# Print or save the updated dataframe\n",
    "print(df)"
   ]
  },
  {
   "cell_type": "code",
   "execution_count": 11,
   "id": "a4f57246",
   "metadata": {},
   "outputs": [
    {
     "name": "stdout",
     "output_type": "stream",
     "text": [
      "      Unique ID         Full name\n",
      "34           35       Abdon Ottro\n",
      "33           33       Abdon Ottro\n",
      "32           34       Abdon Ottro\n",
      "46           46  Abdoulaye Diarra\n",
      "45           47  Abdoulaye Diarra\n",
      "...         ...               ...\n",
      "7289       7300       rita ismail\n",
      "7477       7488   salem beejay WB\n",
      "7478       7489   salem beejay WB\n",
      "8264       8276   thomas O'keeffe\n",
      "8263       8275   thomas O'keeffe\n",
      "\n",
      "[1434 rows x 2 columns]\n"
     ]
    }
   ],
   "source": [
    "# Identify duplicates in the \"Full name\" column\n",
    "duplicate_names = df[df.duplicated(subset=[\"Full name\"], keep=False)]\n",
    "print(duplicate_names)\n",
    "\n"
   ]
  },
  {
   "cell_type": "code",
   "execution_count": 12,
   "id": "8d6fa60e",
   "metadata": {},
   "outputs": [
    {
     "name": "stdout",
     "output_type": "stream",
     "text": [
      "      Unique ID                   Full name\n",
      "3             4             A'Melody Jacobi\n",
      "0             1  A. Jean Pierre AKAKPO-AKUE\n",
      "1             2          A. Karim Soumahoro\n",
      "2             3       A. Serhat Celikyilmaz\n",
      "78           80   ABOU BAKR LAMINE OUATTARA\n",
      "...         ...                         ...\n",
      "2750       2759                  éric didia\n",
      "2758       2767                 éric mandon\n",
      "2764       2772                  éric mobio\n",
      "2772       2780    éric paul-roland n'goran\n",
      "6362       6374                         NaN\n",
      "\n",
      "[7403 rows x 2 columns]\n"
     ]
    }
   ],
   "source": [
    "# Move duplicate rows to the top of the DataFrame\n",
    "df = pd.concat([duplicate_names, df])\n",
    "\n",
    "# Drop duplicates from the original DataFrame\n",
    "df.drop_duplicates(subset=[\"Full name\"], keep=False, inplace=True)\n",
    "\n",
    "# Display the updated DataFrame\n",
    "print(df)\n",
    "\n",
    "# Or save the updated DataFrame to a new Excel file\n",
    "# df.to_excel(\"Document 1a_duplicates_at_top.xlsx\", index=False)"
   ]
  },
  {
   "cell_type": "markdown",
   "id": "4b2d5843",
   "metadata": {},
   "source": [
    "## 1b) Using Python, can you organize all the duplicates (column \"email\") at the top"
   ]
  },
  {
   "cell_type": "code",
   "execution_count": 13,
   "id": "9e7e2b56",
   "metadata": {},
   "outputs": [
    {
     "name": "stdout",
     "output_type": "stream",
     "text": [
      "           #                  Email Address\n",
      "0          1           yuahnnes@hotmail.com\n",
      "1          2      karim.soumahoro@gmail.com\n",
      "2          3          scelikyilmaz@d-ev.com\n",
      "3          4                            NaN\n",
      "4          5                            NaN\n",
      "...      ...                            ...\n",
      "10125  10124    raj.tandon@algonquincap.com\n",
      "10126  10125          ygal@stillcounting.ca\n",
      "10127  10126  m.latour@assurancesclavel.com\n",
      "10128  10127        rayan.clavel@hotmail.fr\n",
      "10129  10128  sophiaclavel94@googlemail.com\n",
      "\n",
      "[10130 rows x 2 columns]\n"
     ]
    }
   ],
   "source": [
    "# Read excel file\n",
    "df_b = pd.read_csv('Document 1b (email).csv')\n",
    "print(df_b)"
   ]
  },
  {
   "cell_type": "code",
   "execution_count": 14,
   "id": "318fa317",
   "metadata": {},
   "outputs": [
    {
     "name": "stdout",
     "output_type": "stream",
     "text": [
      "<class 'pandas.core.frame.DataFrame'>\n",
      "RangeIndex: 10130 entries, 0 to 10129\n",
      "Data columns (total 2 columns):\n",
      " #   Column         Non-Null Count  Dtype \n",
      "---  ------         --------------  ----- \n",
      " 0   #              10130 non-null  int64 \n",
      " 1   Email Address  6722 non-null   object\n",
      "dtypes: int64(1), object(1)\n",
      "memory usage: 158.4+ KB\n"
     ]
    }
   ],
   "source": [
    "# Checking summary of data\n",
    "df_b.info()"
   ]
  },
  {
   "cell_type": "code",
   "execution_count": 15,
   "id": "8b94c592",
   "metadata": {},
   "outputs": [
    {
     "name": "stdout",
     "output_type": "stream",
     "text": [
      "#                   0\n",
      "Email Address    3408\n",
      "dtype: int64\n"
     ]
    }
   ],
   "source": [
    "# Checking th sum of NaN values \n",
    "nan_sum = df_b.isna().sum()\n",
    "print(nan_sum)"
   ]
  },
  {
   "cell_type": "code",
   "execution_count": 16,
   "id": "2a483694",
   "metadata": {},
   "outputs": [
    {
     "data": {
      "text/plain": [
       "(6722, 2)"
      ]
     },
     "execution_count": 16,
     "metadata": {},
     "output_type": "execute_result"
    }
   ],
   "source": [
    "# Drop rows containing Nan values\n",
    "df_b.dropna(inplace=True)\n",
    "\n",
    "# Confirming we have drop the NaN values\n",
    "df_b.shape"
   ]
  },
  {
   "cell_type": "code",
   "execution_count": 17,
   "id": "f50a031b",
   "metadata": {},
   "outputs": [
    {
     "name": "stdout",
     "output_type": "stream",
     "text": [
      "         #                                 Email Address\n",
      "67      67                                 82@hotmail.fr\n",
      "66      68                                 82@hotmail.fr\n",
      "2617  2625           Annemarie.eliaka@ordredesavocats.ci\n",
      "2616  2624           Annemarie.eliaka@ordredesavocats.ci\n",
      "4233  4243                         CODEPRIM@CODEPRIM.com\n",
      "...    ...                                           ...\n",
      "8771  8782                     yves.tt@ttmaintenance.com\n",
      "8799  8810                         zahara_tiacoh@sgs.com\n",
      "8798  8811                         zahara_tiacoh@sgs.com\n",
      "145    146  zongoadama@yahoo.fr\\r\\ndemoterafric@yahoo.fr\n",
      "144    145  zongoadama@yahoo.fr\\r\\ndemoterafric@yahoo.fr\n",
      "\n",
      "[1608 rows x 2 columns]\n"
     ]
    }
   ],
   "source": [
    "# Sort the DataFrame by the \"email\" column\n",
    "df_b.sort_values(\"Email Address\", inplace=True)\n",
    "\n",
    "# Identify duplicates in the \"email\" column\n",
    "duplicate_emails = df_b[df_b.duplicated(subset=[\"Email Address\"], keep=False)]\n",
    "\n",
    "print(duplicate_emails)"
   ]
  },
  {
   "cell_type": "code",
   "execution_count": 18,
   "id": "ebb628b3",
   "metadata": {},
   "outputs": [
    {
     "name": "stdout",
     "output_type": "stream",
     "text": [
      "         #                                      Email Address\n",
      "5364  5374                                0690028f@ac-lyon.fr\n",
      "7188  7200  100001449331306@facebook.com, rayan.clavel@hot...\n",
      "215    216                       100005649706485@facebook.com\n",
      "3817  3828                       100009308297969@facebook.com\n",
      "3272  3280                       100009322354472@facebook.com\n",
      "...    ...                                                ...\n",
      "8827  8840                   zouhair.chaoul@alios-finance.com\n",
      "8832  8844                         zoumana.diallo@bollore.com\n",
      "2059  2068  zoure.damase@aide-et-action.org\\r\\nzdamase@gma...\n",
      "8834  8846                                   zuby52@gmail.com\n",
      "3898  3908                                zurich@impacthub.ch\n",
      "\n",
      "[5114 rows x 2 columns]\n"
     ]
    }
   ],
   "source": [
    "# Move duplicate rows to the top of the DataFrame\n",
    "df_b = pd.concat([duplicate_emails, df_b])\n",
    "\n",
    "# Drop duplicates from the original DataFrame\n",
    "df_b.drop_duplicates(subset=[\"Email Address\"], keep=False, inplace=True)\n",
    "\n",
    "# Print the updated DataFrame\n",
    "print(df_b)\n",
    "\n",
    "# Or save the updated DataFrame to a new Excel file\n",
    "# df.to_excel(\"Document_1b_duplicates_at_top.xlsx\", index=False)"
   ]
  },
  {
   "cell_type": "markdown",
   "id": "b3965f99",
   "metadata": {},
   "source": [
    "# 1c) Using Python, can you organize all the duplicates (columns \"phone 1\", \"phone 2\", \"phone 3\", \"phone 4\") at the top"
   ]
  },
  {
   "cell_type": "code",
   "execution_count": 19,
   "id": "4d42a253",
   "metadata": {},
   "outputs": [
    {
     "name": "stdout",
     "output_type": "stream",
     "text": [
      "      Unnamed: 0          Unnamed: 1 Unnamed: 2 Unnamed: 3 Unnamed: 4\n",
      "0           2557             1051883        NaN        NaN        NaN\n",
      "1           6275             1054786        NaN        NaN        NaN\n",
      "2           1619             3044586        NaN        NaN        NaN\n",
      "3           2186             4006597        NaN        NaN        NaN\n",
      "4           1367             4326900        NaN        NaN        NaN\n",
      "...          ...                 ...        ...        ...        ...\n",
      "4251        6886        See whatsapp        NaN        NaN        NaN\n",
      "4252        4682         XX 88 59 78        NaN        NaN        NaN\n",
      "4253        3578  XXX 07 72 11 66 42        NaN        NaN        NaN\n",
      "4254         162     XXX 08029305827        NaN        NaN        NaN\n",
      "4255        3550   zOu est le numero        NaN        NaN        NaN\n",
      "\n",
      "[4256 rows x 5 columns]\n"
     ]
    }
   ],
   "source": [
    "# Read csv\n",
    "df_c = pd.read_csv('Document 1c (Phone).csv')\n",
    "print(df_c)"
   ]
  },
  {
   "cell_type": "code",
   "execution_count": 20,
   "id": "b6a89e71",
   "metadata": {},
   "outputs": [
    {
     "name": "stdout",
     "output_type": "stream",
     "text": [
      "<class 'pandas.core.frame.DataFrame'>\n",
      "RangeIndex: 4256 entries, 0 to 4255\n",
      "Data columns (total 5 columns):\n",
      " #   Column      Non-Null Count  Dtype \n",
      "---  ------      --------------  ----- \n",
      " 0   Unnamed: 0  4256 non-null   int64 \n",
      " 1   Unnamed: 1  4256 non-null   object\n",
      " 2   Unnamed: 2  765 non-null    object\n",
      " 3   Unnamed: 3  338 non-null    object\n",
      " 4   Unnamed: 4  1 non-null      object\n",
      "dtypes: int64(1), object(4)\n",
      "memory usage: 166.4+ KB\n"
     ]
    }
   ],
   "source": [
    "# Checking summary of data\n",
    "df_c.info()"
   ]
  },
  {
   "cell_type": "code",
   "execution_count": 21,
   "id": "90f92316",
   "metadata": {
    "scrolled": true
   },
   "outputs": [
    {
     "name": "stdout",
     "output_type": "stream",
     "text": [
      "Unnamed: 0       0\n",
      "Unnamed: 1       0\n",
      "Unnamed: 2    3491\n",
      "Unnamed: 3    3918\n",
      "Unnamed: 4    4255\n",
      "dtype: int64\n"
     ]
    }
   ],
   "source": [
    "# Checking sum of NaN values\n",
    "nan_sum = df_c.isna().sum()\n",
    "print(nan_sum)"
   ]
  },
  {
   "cell_type": "markdown",
   "id": "040a67d9",
   "metadata": {},
   "source": [
    "For the Document 1c (Phone) I noticed the columns are not named and also there are some entries with more than one number, for this process I will rename the unamed: 1 to phone 1, unamed: 2 to phone 2, unamed:3 to phone 3 and unamed:4 to phone 4.\n",
    "\n",
    "I will also drop the first column unamed:0"
   ]
  },
  {
   "cell_type": "code",
   "execution_count": 22,
   "id": "197e5b40",
   "metadata": {},
   "outputs": [
    {
     "name": "stdout",
     "output_type": "stream",
     "text": [
      "                 Phone 1 Phone 2 Phone 3 Phone 4\n",
      "0                1051883     NaN     NaN     NaN\n",
      "1                1054786     NaN     NaN     NaN\n",
      "2                3044586     NaN     NaN     NaN\n",
      "3                4006597     NaN     NaN     NaN\n",
      "4                4326900     NaN     NaN     NaN\n",
      "...                  ...     ...     ...     ...\n",
      "4251        See whatsapp     NaN     NaN     NaN\n",
      "4252         XX 88 59 78     NaN     NaN     NaN\n",
      "4253  XXX 07 72 11 66 42     NaN     NaN     NaN\n",
      "4254     XXX 08029305827     NaN     NaN     NaN\n",
      "4255   zOu est le numero     NaN     NaN     NaN\n",
      "\n",
      "[4256 rows x 4 columns]\n"
     ]
    }
   ],
   "source": [
    "# Assign appropriate column names\n",
    "df_c.columns = [\"Index\", \"Phone 1\", \"Phone 2\", \"Phone 3\", \"Phone 4\"]\n",
    "\n",
    "# Drop the first column (unnamed index)\n",
    "df_c = df_c.drop(columns=[\"Index\"])\n",
    "\n",
    "# Print the DataFrame after setting column names\n",
    "print(df_c)\n"
   ]
  },
  {
   "cell_type": "code",
   "execution_count": 23,
   "id": "99bff4a0",
   "metadata": {
    "scrolled": true
   },
   "outputs": [
    {
     "name": "stdout",
     "output_type": "stream",
     "text": [
      "Phone 1       0\n",
      "Phone 2    3491\n",
      "Phone 3    3918\n",
      "Phone 4    4255\n",
      "dtype: int64\n"
     ]
    }
   ],
   "source": [
    "# Checking sum of NaN values\n",
    "nan_sum = df_c.isna().sum()\n",
    "print(nan_sum)"
   ]
  },
  {
   "cell_type": "markdown",
   "id": "e65e4605",
   "metadata": {},
   "source": [
    "This shows that Phone 4 does no have any records, for this case we can drop the entire column"
   ]
  },
  {
   "cell_type": "code",
   "execution_count": 24,
   "id": "345120cd",
   "metadata": {},
   "outputs": [],
   "source": [
    "# Drop the \"phone 4\" column\n",
    "df_c.drop(\"Phone 4\", axis=1, inplace=True)\n"
   ]
  },
  {
   "cell_type": "code",
   "execution_count": 25,
   "id": "b5c3e0c3",
   "metadata": {},
   "outputs": [
    {
     "name": "stdout",
     "output_type": "stream",
     "text": [
      "           Phone 1 Phone 2 Phone 3\n",
      "102    22507575747     NaN     NaN\n",
      "103    22507575747     NaN     NaN\n",
      "146   442089410240     NaN     NaN\n",
      "147   442089410240     NaN     NaN\n",
      "165   447999423173     NaN     NaN\n",
      "...            ...     ...     ...\n",
      "4247  See whatsapp     NaN     NaN\n",
      "4248  See whatsapp     NaN     NaN\n",
      "4249  See whatsapp     NaN     NaN\n",
      "4250  See whatsapp     NaN     NaN\n",
      "4251  See whatsapp     NaN     NaN\n",
      "\n",
      "[435 rows x 3 columns]\n"
     ]
    }
   ],
   "source": [
    "# Identify duplicates across multiple columns\n",
    "duplicate_phones = df_c[df_c.duplicated(subset=[\"Phone 1\", \"Phone 2\", \"Phone 3\"], keep=False)]\n",
    "\n",
    "print(duplicate_phones)"
   ]
  },
  {
   "cell_type": "code",
   "execution_count": 26,
   "id": "eb79c698",
   "metadata": {},
   "outputs": [
    {
     "name": "stdout",
     "output_type": "stream",
     "text": [
      "                 Phone 1 Phone 2 Phone 3\n",
      "0                1051883     NaN     NaN\n",
      "1                1054786     NaN     NaN\n",
      "2                3044586     NaN     NaN\n",
      "3                4006597     NaN     NaN\n",
      "4                4326900     NaN     NaN\n",
      "...                  ...     ...     ...\n",
      "4245            97756518     NaN     NaN\n",
      "4252         XX 88 59 78     NaN     NaN\n",
      "4253  XXX 07 72 11 66 42     NaN     NaN\n",
      "4254     XXX 08029305827     NaN     NaN\n",
      "4255   zOu est le numero     NaN     NaN\n",
      "\n",
      "[3821 rows x 3 columns]\n"
     ]
    }
   ],
   "source": [
    "# Move duplicate rows to the top of the DataFrame\n",
    "df_c = pd.concat([duplicate_phones, df_c.drop_duplicates(subset=[\"Phone 1\", \"Phone 2\", \"Phone 3\"], keep=False)])\n",
    "\n",
    "# Drop duplicates from the original DataFrame\n",
    "df_c.drop_duplicates(subset=[\"Phone 1\", \"Phone 2\", \"Phone 3\"], keep=False, inplace=True)\n",
    "\n",
    "# Print or save the updated DataFrame\n",
    "print(df_c)"
   ]
  },
  {
   "cell_type": "markdown",
   "id": "75618ff7",
   "metadata": {},
   "source": [
    "## 1d) Using Python, can you organize all the duplicates (column \"URL\") at the top"
   ]
  },
  {
   "cell_type": "code",
   "execution_count": 27,
   "id": "f2f31da2",
   "metadata": {},
   "outputs": [
    {
     "name": "stdout",
     "output_type": "stream",
     "text": [
      "      Unique ID                                                URL\n",
      "0           502  apps.apple.com/ae/app/linkedin-job-search-news...\n",
      "1          6143  ci.linkedin.com/in/mohamed-adnane-a-9a9531179?...\n",
      "2          7062      ci.linkedin.com/in/pierluigi-passera-72241a19\n",
      "3          7064      ci.linkedin.com/in/pierluigi-passera-72241a19\n",
      "4          7533           ci.linkedin.com/in/sami-yassine-11b424a1\n",
      "...         ...                                                ...\n",
      "2481       6147              www.linkedin.com/in/zitouni-med-mehdi\n",
      "2482       8836            www.linkedin.com/in/zokou-nina-062223a6\n",
      "2483       8841       www.linkedin.com/in/zouhair-elharti-36a29552\n",
      "2484       8845          www.linkedin.com/in/zoura-tra-bi-550a5ab5\n",
      "2485       5483        www.zoominfo.com/p/Malika-Tanny/-1699799427\n",
      "\n",
      "[2486 rows x 2 columns]\n"
     ]
    }
   ],
   "source": [
    "# read file\n",
    "df_d = pd.read_csv(\"Document 1d (URL).csv\")\n",
    "print(df_d)"
   ]
  },
  {
   "cell_type": "code",
   "execution_count": 34,
   "id": "1bdd4ebc-ddbe-4a78-8d51-5ccd9bd2cf80",
   "metadata": {},
   "outputs": [
    {
     "name": "stdout",
     "output_type": "stream",
     "text": [
      "<class 'pandas.core.frame.DataFrame'>\n",
      "Index: 2461 entries, 0 to 2485\n",
      "Data columns (total 2 columns):\n",
      " #   Column     Non-Null Count  Dtype \n",
      "---  ------     --------------  ----- \n",
      " 0   Unique ID  2461 non-null   int64 \n",
      " 1   URL        2461 non-null   object\n",
      "dtypes: int64(1), object(1)\n",
      "memory usage: 57.7+ KB\n"
     ]
    }
   ],
   "source": [
    "# Checking the info\n",
    "df_d.info()"
   ]
  },
  {
   "cell_type": "code",
   "execution_count": 35,
   "id": "228a11b3-75ac-467b-b482-55421a8a108c",
   "metadata": {},
   "outputs": [
    {
     "name": "stdout",
     "output_type": "stream",
     "text": [
      "Unique ID    0\n",
      "URL          0\n",
      "dtype: int64\n"
     ]
    }
   ],
   "source": [
    "# Getting the null values\n",
    "df_d_null = df_d.isna().sum()\n",
    "print(df_d_null)"
   ]
  },
  {
   "cell_type": "code",
   "execution_count": 28,
   "id": "be91b2eb-babd-4596-8adf-b359a353f25d",
   "metadata": {},
   "outputs": [
    {
     "name": "stdout",
     "output_type": "stream",
     "text": [
      "      Unique ID                                                URL\n",
      "2          7062      ci.linkedin.com/in/pierluigi-passera-72241a19\n",
      "3          7064      ci.linkedin.com/in/pierluigi-passera-72241a19\n",
      "331         555                 www.linkedin.com/in/alloysiusattah\n",
      "332         556                 www.linkedin.com/in/alloysiusattah\n",
      "983        3198      www.linkedin.com/in/francois-hurstel-4b089021\n",
      "984        3199      www.linkedin.com/in/francois-hurstel-4b089021\n",
      "1032       3376            www.linkedin.com/in/ghislain-c-aaa9606b\n",
      "1033       3377            www.linkedin.com/in/ghislain-c-aaa9606b\n",
      "1155       3901         www.linkedin.com/in/imane-rayess-54a53035/\n",
      "1156       3902         www.linkedin.com/in/imane-rayess-54a53035/\n",
      "1177       2081        www.linkedin.com/in/ismahill-diaby-31897b9/\n",
      "1178       3983        www.linkedin.com/in/ismahill-diaby-31897b9/\n",
      "1286       4374    www.linkedin.com/in/jo%C3%ABlle-guede-309321117\n",
      "1287       4373    www.linkedin.com/in/jo%C3%ABlle-guede-309321117\n",
      "1330       4458  www.linkedin.com/in/joseph-khoury-770174159?or...\n",
      "1331       4457  www.linkedin.com/in/joseph-khoury-770174159?or...\n",
      "1544       5305       www.linkedin.com/in/louis-davoust-3664211a9/\n",
      "1545       5306       www.linkedin.com/in/louis-davoust-3664211a9/\n",
      "1795       1400  www.linkedin.com/in/moustapha-boulamine-41b15262/\n",
      "1796       6245  www.linkedin.com/in/moustapha-boulamine-41b15262/\n",
      "2010       6457  www.linkedin.com/in/philom%C3%A8ne-naounou-504...\n",
      "2011       7059  www.linkedin.com/in/philom%C3%A8ne-naounou-504...\n",
      "2462       8773            www.linkedin.com/in/yves-delafon-125b3a\n",
      "2463       8774            www.linkedin.com/in/yves-delafon-125b3a\n",
      "2464       8775            www.linkedin.com/in/yves-delafon-125b3a\n"
     ]
    }
   ],
   "source": [
    "# Identifying duplicated URL\n",
    "duplicate_url = df_d[df_d.duplicated(subset=[\"URL\"], keep=False)]\n",
    "print(duplicate_url)"
   ]
  },
  {
   "cell_type": "code",
   "execution_count": 30,
   "id": "b6e33da6-d5d5-4265-8e7a-529d23e629e1",
   "metadata": {},
   "outputs": [
    {
     "name": "stdout",
     "output_type": "stream",
     "text": [
      "      Unique ID                                                URL\n",
      "0           502  apps.apple.com/ae/app/linkedin-job-search-news...\n",
      "1          6143  ci.linkedin.com/in/mohamed-adnane-a-9a9531179?...\n",
      "4          7533           ci.linkedin.com/in/sami-yassine-11b424a1\n",
      "5           980     http://linkedin.com/in/aslam-m-h-taher-2b697a4\n",
      "6          1119      http://linkedin.com/in/ayouba-seydou-055b6349\n",
      "...         ...                                                ...\n",
      "2481       6147              www.linkedin.com/in/zitouni-med-mehdi\n",
      "2482       8836            www.linkedin.com/in/zokou-nina-062223a6\n",
      "2483       8841       www.linkedin.com/in/zouhair-elharti-36a29552\n",
      "2484       8845          www.linkedin.com/in/zoura-tra-bi-550a5ab5\n",
      "2485       5483        www.zoominfo.com/p/Malika-Tanny/-1699799427\n",
      "\n",
      "[2461 rows x 2 columns]\n"
     ]
    }
   ],
   "source": [
    "# Move duplicate rows to the top of the dataset\n",
    "df_d = pd.concat([duplicate_url, df_d.drop_duplicates(subset=[\"URL\"], keep=False)])\n",
    "\n",
    "# Drop duplicates from original dataset\n",
    "df_d.drop_duplicates(subset=[\"URL\"], keep=False, inplace=True)\n",
    "\n",
    "print(df_d)\n",
    "\n",
    "# Or save the updated DataFrame to a new Excel file\n",
    "# df_d.to_csv(\"Document 1d (URL)_top.csv\", index=False)"
   ]
  },
  {
   "cell_type": "markdown",
   "id": "ff9bb5c4-937b-4802-a258-76dffa627a56",
   "metadata": {},
   "source": [
    "# Section 2"
   ]
  },
  {
   "cell_type": "code",
   "execution_count": 36,
   "id": "9fe3ce32-8b95-4ddd-8a4d-0c974cbc47bf",
   "metadata": {},
   "outputs": [
    {
     "name": "stdout",
     "output_type": "stream",
     "text": [
      "                  Full name   x Dup1     #                             Raison  \\\n",
      "0           appolinaire aka NaN    x   900                                NaN   \n",
      "1             arnaud vergez NaN    x   942                                NaN   \n",
      "2            amadou kouyate NaN    x   586                                NaN   \n",
      "3             amidou guindo NaN    x   630                                NaN   \n",
      "4     Alligué Louise Wognin NaN    x   549                                NaN   \n",
      "...                     ...  ..  ...   ...                                ...   \n",
      "2758                 Soizic NaN  NaN  7866                             Friend   \n",
      "2759       Thierry Arthaud  NaN  NaN  8237             Competitors & Partners   \n",
      "2760          Yacouba SYLLA NaN  NaN  8601  Prestataire & Source (Formaliste)   \n",
      "2761                Yannick NaN  NaN  8616                            Partner   \n",
      "2762              Yoro Diaw NaN  NaN  8721               Prestataire & Source   \n",
      "\n",
      "     Title  x.1                                                URL  \\\n",
      "0      NaN  NaN                                                NaN   \n",
      "1      NaN  NaN                                                NaN   \n",
      "2      NaN  NaN                                                NaN   \n",
      "3      NaN  NaN                                                NaN   \n",
      "4      NaN  NaN                                                NaN   \n",
      "...    ...  ...                                                ...   \n",
      "2758   NaN  NaN              www.linkedin.com/in/soizicmerdrignac/   \n",
      "2759   NaN  NaN                www.linkedin.com/in/thierryarthaud/   \n",
      "2760   NaN  NaN       www.linkedin.com/in/yacouba-sylla-142468175/   \n",
      "2761   NaN  NaN  www.linkedin.com/in/yannick-houphou%C3%ABt-kou...   \n",
      "2762   NaN  NaN           www.linkedin.com/in/yoro-diaw-1b734319/    \n",
      "\n",
      "                                  Email Address Dup2  ... x.4 Raw Data  \\\n",
      "0                        akappoli@iaco-oiac.org    x  ... NaN      NaN   \n",
      "1                     afrikannoncesci@yahoo.com    x  ... NaN      NaN   \n",
      "2            amadou.kouyate@BRIDGEBANKGROUP.com    x  ... NaN      NaN   \n",
      "3                             aguindo@bduci.com    x  ... NaN      NaN   \n",
      "4     alligueattouolouise.akouna@bnpparibas.com    x  ... NaN      NaN   \n",
      "...                                         ...  ...  ...  ..      ...   \n",
      "2758                                        NaN  NaN  ... NaN        -   \n",
      "2759                                        NaN  NaN  ... NaN        -   \n",
      "2760                                        NaN  NaN  ... NaN        -   \n",
      "2761                                        NaN  NaN  ... NaN        -   \n",
      "2762                                        NaN  NaN  ... NaN        -   \n",
      "\n",
      "     Biographie      First Name Last Name Twitter Photo x.5  \\\n",
      "0           NaN     appolinaire       aka     NaN   NaN NaN   \n",
      "1           NaN          arnaud    vergez     NaN   NaN NaN   \n",
      "2           NaN          amadou   kouyate     NaN   NaN NaN   \n",
      "3           NaN          amidou    guindo     NaN   NaN NaN   \n",
      "4           NaN  alligué louise    wognin     NaN   NaN NaN   \n",
      "...         ...             ...       ...     ...   ...  ..   \n",
      "2758          -             NaN       NaN       -     - NaN   \n",
      "2759          -             NaN       NaN       -     - NaN   \n",
      "2760          -             NaN       NaN       -     - NaN   \n",
      "2761          -             NaN       NaN       -     - NaN   \n",
      "2762          -             NaN       NaN       -     - NaN   \n",
      "\n",
      "                            Source Source_Contact  \n",
      "0     Excel: Base de donnee - 2015            NaN  \n",
      "1     Excel: Base de donnee - 2015            NaN  \n",
      "2     Excel: Base de donnee - 2015            NaN  \n",
      "3     Excel: Base de donnee - 2015            NaN  \n",
      "4     Excel: Base de donnee - 2015            NaN  \n",
      "...                            ...            ...  \n",
      "2758                           NaN            NaN  \n",
      "2759                           NaN            NaN  \n",
      "2760                           NaN            NaN  \n",
      "2761                           NaN            NaN  \n",
      "2762                           NaN            NaN  \n",
      "\n",
      "[2763 rows x 41 columns]\n"
     ]
    }
   ],
   "source": [
    "# Read the csv\n",
    "df_2 = pd.read_csv(\"Document 2.csv\")\n",
    "print(df_2)"
   ]
  },
  {
   "cell_type": "code",
   "execution_count": null,
   "id": "f6add083-04f8-4ca1-9121-b8a19c1f37ea",
   "metadata": {},
   "outputs": [],
   "source": [
    "# Data cleaning\n",
    "# Clean the database to remove duplicates and ensure one entry per person.\n",
    "df_2.drop_duplicates(subset=[\"Full name\"], inplace=True)\n",
    "\n",
    "# Ensure all relevant information remains intact\n",
    "# Combine all phone numbers into a single column\n",
    "df_2[\"Phone numbers\"] = df_2[\"Phone 1\"].fillna(\"\") + df_2[\"Phone 2\"].fillna(\"\") + df_2[\"Phone 3\"].fillna(\"\") + df_2[\"Phone 4\"].fillna(\"\")\n",
    "\n",
    "# Captilazing the Full names\n",
    "df_2[\"Full name\"] = df[\"Full name\"].str.capitalize()\n",
    "\n",
    "print("
   ]
  }
 ],
 "metadata": {
  "kernelspec": {
   "display_name": "Python 3 (ipykernel)",
   "language": "python",
   "name": "python3"
  },
  "language_info": {
   "codemirror_mode": {
    "name": "ipython",
    "version": 3
   },
   "file_extension": ".py",
   "mimetype": "text/x-python",
   "name": "python",
   "nbconvert_exporter": "python",
   "pygments_lexer": "ipython3",
   "version": "3.11.7"
  }
 },
 "nbformat": 4,
 "nbformat_minor": 5
}
